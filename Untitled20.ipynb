{
 "cells": [
  {
   "cell_type": "code",
   "execution_count": 1,
   "id": "1446bc37",
   "metadata": {},
   "outputs": [],
   "source": [
    "import pandas as pd"
   ]
  },
  {
   "cell_type": "code",
   "execution_count": 3,
   "id": "70a06eba",
   "metadata": {},
   "outputs": [],
   "source": [
    "from pandas_profiling import ProfileReport"
   ]
  },
  {
   "cell_type": "code",
   "execution_count": 4,
   "id": "b004820f",
   "metadata": {},
   "outputs": [],
   "source": [
    "df = pd.read_csv('data.csv')"
   ]
  },
  {
   "cell_type": "code",
   "execution_count": 5,
   "id": "203fd93e",
   "metadata": {},
   "outputs": [
    {
     "name": "stdout",
     "output_type": "stream",
     "text": [
      "        ID No.            Name English      Section 4th Sub  Ban_Total   \\\n",
      "0    2190001.0   SAIMA SHARMIN MONISHA  Shankhamala    Agri        65.0   \n",
      "1    2190002.0  MOSSAMAT NUSAIBA ISLAM  Shankhamala    Agri        77.0   \n",
      "2    2190004.0      TAHMINA AFROJ RITU  Shankhamala    Agri        69.0   \n",
      "3    2190005.0       ANUPOMA DEBSHARMA  Shankhamala    Agri        53.0   \n",
      "4    2190007.0         MARIA AKTER MIM  Shankhamala    Agri        63.0   \n",
      "..         ...                     ...          ...     ...         ...   \n",
      "463        NaN                     NaN          NaN     NaN         NaN   \n",
      "464        NaN                     NaN          NaN     NaN         NaN   \n",
      "465        NaN                     NaN          NaN     NaN         NaN   \n",
      "466        NaN                     NaN          NaN     NaN         NaN   \n",
      "467        NaN                     NaN          NaN     NaN         NaN   \n",
      "\n",
      "     Ban_G.P. Ban_L.G.   Eng_Total   Eng_G.P. Eng_L.G.   ...   APT  APT_G.P.  \\\n",
      "0         3.5        A-        61.0       3.5        A-  ...  59.0       3.5   \n",
      "1         4.0         A        57.0       3.0         B  ...  58.0       3.0   \n",
      "2         4.0         A        50.0       3.0         B  ...  51.0       3.0   \n",
      "3         3.0         B        44.0       0.0         F  ...  41.0       0.0   \n",
      "4         3.5        A-        44.0       0.0         F  ...  47.0       0.0   \n",
      "..        ...       ...         ...       ...       ...  ...   ...       ...   \n",
      "463       NaN       NaN         NaN       NaN       NaN  ...   NaN       NaN   \n",
      "464       NaN       NaN         NaN       NaN       NaN  ...   NaN       NaN   \n",
      "465       NaN       NaN         NaN       NaN       NaN  ...   NaN       NaN   \n",
      "466       NaN       NaN         NaN       NaN       NaN  ...   NaN       NaN   \n",
      "467       NaN       NaN         NaN       NaN       NaN  ...   NaN       NaN   \n",
      "\n",
      "    APT_L.G.   Grand\\nTotal  TTL_GP TTL_L.G.  No.s of F  Sec_Position  \\\n",
      "0          A-         445.0    4.08        A        0.0             2   \n",
      "1           B         430.0    3.83       A-        0.0             5   \n",
      "2           B         416.0    3.92       A-        0.0             4   \n",
      "3           F         295.0    0.00        F        4.0            --   \n",
      "4           F         411.0    0.00        F        1.0            --   \n",
      "..        ...           ...     ...      ...        ...           ...   \n",
      "463       NaN           NaN     NaN      NaN        NaN           NaN   \n",
      "464       NaN           NaN     NaN      NaN        NaN           NaN   \n",
      "465       NaN           NaN     NaN      NaN        NaN           NaN   \n",
      "466       NaN           NaN     NaN      NaN        NaN           NaN   \n",
      "467       NaN           NaN     NaN      NaN        NaN           NaN   \n",
      "\n",
      "    Position  ATP_Position  \n",
      "0         66            11  \n",
      "1         86            12  \n",
      "2         80            19  \n",
      "3         --            --  \n",
      "4         --            --  \n",
      "..       ...           ...  \n",
      "463      NaN           NaN  \n",
      "464      NaN           NaN  \n",
      "465      NaN           NaN  \n",
      "466      NaN           NaN  \n",
      "467      NaN           NaN  \n",
      "\n",
      "[468 rows x 35 columns]\n"
     ]
    }
   ],
   "source": [
    "print(df)"
   ]
  },
  {
   "cell_type": "code",
   "execution_count": 6,
   "id": "8c9039d5",
   "metadata": {},
   "outputs": [
    {
     "data": {
      "application/vnd.jupyter.widget-view+json": {
       "model_id": "81f163d3f3c24955818fb12e5cb06adf",
       "version_major": 2,
       "version_minor": 0
      },
      "text/plain": [
       "Summarize dataset:   0%|          | 0/48 [00:00<?, ?it/s]"
      ]
     },
     "metadata": {},
     "output_type": "display_data"
    },
    {
     "data": {
      "application/vnd.jupyter.widget-view+json": {
       "model_id": "c849e908cafe4d4ab8e130cba1d144ca",
       "version_major": 2,
       "version_minor": 0
      },
      "text/plain": [
       "Generate report structure:   0%|          | 0/1 [00:00<?, ?it/s]"
      ]
     },
     "metadata": {},
     "output_type": "display_data"
    },
    {
     "data": {
      "application/vnd.jupyter.widget-view+json": {
       "model_id": "b64945cfc87f40de9f7d85f89aa170a3",
       "version_major": 2,
       "version_minor": 0
      },
      "text/plain": [
       "Render HTML:   0%|          | 0/1 [00:00<?, ?it/s]"
      ]
     },
     "metadata": {},
     "output_type": "display_data"
    },
    {
     "data": {
      "application/vnd.jupyter.widget-view+json": {
       "model_id": "457e0bd1ab1045ce80eba49d7635000b",
       "version_major": 2,
       "version_minor": 0
      },
      "text/plain": [
       "Export report to file:   0%|          | 0/1 [00:00<?, ?it/s]"
      ]
     },
     "metadata": {},
     "output_type": "display_data"
    }
   ],
   "source": [
    "profile = ProfileReport(df)\n",
    "profile.to_file(output_file='Result.html')"
   ]
  },
  {
   "cell_type": "code",
   "execution_count": null,
   "id": "217029f9",
   "metadata": {},
   "outputs": [],
   "source": []
  }
 ],
 "metadata": {
  "kernelspec": {
   "display_name": "Python 3",
   "language": "python",
   "name": "python3"
  },
  "language_info": {
   "codemirror_mode": {
    "name": "ipython",
    "version": 3
   },
   "file_extension": ".py",
   "mimetype": "text/x-python",
   "name": "python",
   "nbconvert_exporter": "python",
   "pygments_lexer": "ipython3",
   "version": "3.8.8"
  }
 },
 "nbformat": 4,
 "nbformat_minor": 5
}
