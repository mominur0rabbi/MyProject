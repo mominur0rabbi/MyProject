{
 "cells": [
  {
   "cell_type": "code",
   "execution_count": 1,
   "id": "8bfd77ee",
   "metadata": {},
   "outputs": [],
   "source": [
    "import pandas as pd\n"
   ]
  },
  {
   "cell_type": "code",
   "execution_count": 2,
   "id": "82208af5",
   "metadata": {},
   "outputs": [],
   "source": [
    "import numpy as np\n",
    "np_2d = np.array([[5,6,1,2,3,4],[4,5,3,2,1,8],[9,10,3,7,6,5]])   "
   ]
  },
  {
   "cell_type": "code",
   "execution_count": 3,
   "id": "890a48ec",
   "metadata": {},
   "outputs": [
    {
     "name": "stdout",
     "output_type": "stream",
     "text": [
      "23\n",
      "2.266911751455907\n",
      "3.5\n"
     ]
    }
   ],
   "source": [
    "print(np.sum(np_2d[1,:]))\n",
    "print(np.std(np_2d[1,:]))\n",
    "print(np.median(np_2d[1,:]))"
   ]
  },
  {
   "cell_type": "code",
   "execution_count": 4,
   "id": "e9b3242e",
   "metadata": {},
   "outputs": [
    {
     "name": "stdout",
     "output_type": "stream",
     "text": [
      "16\n"
     ]
    }
   ],
   "source": [
    "print(8 + int(8.5))\n"
   ]
  },
  {
   "cell_type": "code",
   "execution_count": 5,
   "id": "935edd46",
   "metadata": {},
   "outputs": [
    {
     "name": "stdout",
     "output_type": "stream",
     "text": [
      "2\n"
     ]
    }
   ],
   "source": [
    "x = int(2.3)\n",
    "y = 1\n",
    "print(x * bool(y))"
   ]
  },
  {
   "cell_type": "code",
   "execution_count": 7,
   "id": "cc204118",
   "metadata": {},
   "outputs": [
    {
     "name": "stdout",
     "output_type": "stream",
     "text": [
      "<class 'type'>\n"
     ]
    }
   ],
   "source": [
    "print(type(type(bool(\"1\"))))"
   ]
  },
  {
   "cell_type": "code",
   "execution_count": 8,
   "id": "7c25eca0",
   "metadata": {},
   "outputs": [
    {
     "ename": "NameError",
     "evalue": "name 'doc' is not defined",
     "output_type": "error",
     "traceback": [
      "\u001b[1;31m---------------------------------------------------------------------------\u001b[0m",
      "\u001b[1;31mNameError\u001b[0m                                 Traceback (most recent call last)",
      "\u001b[1;32m<ipython-input-8-1e58a97782a3>\u001b[0m in \u001b[0;36m<module>\u001b[1;34m\u001b[0m\n\u001b[1;32m----> 1\u001b[1;33m \u001b[0mdoc\u001b[0m\u001b[1;33m(\u001b[0m\u001b[0mlen\u001b[0m\u001b[1;33m(\u001b[0m\u001b[1;33m)\u001b[0m\u001b[1;33m)\u001b[0m\u001b[1;33m\u001b[0m\u001b[1;33m\u001b[0m\u001b[0m\n\u001b[0m",
      "\u001b[1;31mNameError\u001b[0m: name 'doc' is not defined"
     ]
    }
   ],
   "source": [
    "doc(len())"
   ]
  },
  {
   "cell_type": "code",
   "execution_count": 9,
   "id": "5f099e40",
   "metadata": {},
   "outputs": [
    {
     "ename": "NameError",
     "evalue": "name 'doc' is not defined",
     "output_type": "error",
     "traceback": [
      "\u001b[1;31m---------------------------------------------------------------------------\u001b[0m",
      "\u001b[1;31mNameError\u001b[0m                                 Traceback (most recent call last)",
      "\u001b[1;32m<ipython-input-9-f908ef7beefa>\u001b[0m in \u001b[0;36m<module>\u001b[1;34m\u001b[0m\n\u001b[1;32m----> 1\u001b[1;33m \u001b[0mdoc\u001b[0m\u001b[1;33m(\u001b[0m\u001b[0mlen\u001b[0m\u001b[1;33m)\u001b[0m\u001b[1;33m\u001b[0m\u001b[1;33m\u001b[0m\u001b[0m\n\u001b[0m",
      "\u001b[1;31mNameError\u001b[0m: name 'doc' is not defined"
     ]
    }
   ],
   "source": [
    "doc(len)"
   ]
  },
  {
   "cell_type": "code",
   "execution_count": 13,
   "id": "cd0d65c0",
   "metadata": {},
   "outputs": [
    {
     "name": "stdout",
     "output_type": "stream",
     "text": [
      "[[ 7 76]\n",
      " [ 8 87]\n",
      " [ 4 68]\n",
      " [ 6 88]]\n"
     ]
    }
   ],
   "source": [
    "import numpy as np\n",
    "store = np.array([7, 8, 4, 6])\n",
    "cost  = np.array([76, 87, 68, 88])\n",
    "np_cols = np.column_stack((store, cost))\n",
    "print(np_cols)"
   ]
  },
  {
   "cell_type": "code",
   "execution_count": 14,
   "id": "604777c7",
   "metadata": {},
   "outputs": [
    {
     "name": "stdout",
     "output_type": "stream",
     "text": [
      "['Winter', 'Spring', 'Summer', 'Fall']\n"
     ]
    }
   ],
   "source": [
    "x = [\"Winter\",\"Spring\"]\n",
    "y = [\"Summer\",\"Fall\"]\n",
    "print(x+y)"
   ]
  },
  {
   "cell_type": "code",
   "execution_count": 15,
   "id": "5bbf25d8",
   "metadata": {},
   "outputs": [
    {
     "data": {
      "text/plain": [
       "'xy'"
      ]
     },
     "execution_count": 15,
     "metadata": {},
     "output_type": "execute_result"
    }
   ],
   "source": [
    "\"x\"+\"y\""
   ]
  },
  {
   "cell_type": "code",
   "execution_count": 16,
   "id": "dc5d4084",
   "metadata": {},
   "outputs": [
    {
     "data": {
      "text/plain": [
       "array([4, 5, 2])"
      ]
     },
     "execution_count": 16,
     "metadata": {},
     "output_type": "execute_result"
    }
   ],
   "source": [
    "np.array([True, 1, 2]) + np.array([3, 4, False])\n"
   ]
  },
  {
   "cell_type": "code",
   "execution_count": 17,
   "id": "76325b5a",
   "metadata": {},
   "outputs": [
    {
     "name": "stdout",
     "output_type": "stream",
     "text": [
      "[1, -1, True, False]\n"
     ]
    }
   ],
   "source": [
    "x = [1, -1]\n",
    "y = x + [True, False]\n",
    "print(y)"
   ]
  },
  {
   "cell_type": "code",
   "execution_count": 18,
   "id": "352696bf",
   "metadata": {},
   "outputs": [
    {
     "name": "stdout",
     "output_type": "stream",
     "text": [
      "0\n"
     ]
    }
   ],
   "source": [
    "x = [True, 100, 1, 0, False]\n",
    "a = 3\n",
    "b = -2\n",
    "print(x[a] + x[b])"
   ]
  },
  {
   "cell_type": "code",
   "execution_count": 19,
   "id": "d1a49bb3",
   "metadata": {},
   "outputs": [
    {
     "name": "stdout",
     "output_type": "stream",
     "text": [
      "[0, 3, 4, 5]\n"
     ]
    }
   ],
   "source": [
    "x = [0, 1, -2]\n",
    "x[1:] = [3,4,5] \n",
    "print(x)"
   ]
  },
  {
   "cell_type": "code",
   "execution_count": 21,
   "id": "674e9ed1",
   "metadata": {},
   "outputs": [
    {
     "data": {
      "text/plain": [
       "array([ True,  True])"
      ]
     },
     "execution_count": 21,
     "metadata": {},
     "output_type": "execute_result"
    }
   ],
   "source": [
    "np.array([4,5]) < 6"
   ]
  },
  {
   "cell_type": "code",
   "execution_count": 22,
   "id": "46bd53a7",
   "metadata": {},
   "outputs": [
    {
     "name": "stdout",
     "output_type": "stream",
     "text": [
      "[2, 3, 4, 2, 1]\n"
     ]
    }
   ],
   "source": [
    "data = [1,2,3,4,2,1]\n",
    "data.remove(1)\n",
    "print(data)"
   ]
  },
  {
   "cell_type": "code",
   "execution_count": 23,
   "id": "bff46d3a",
   "metadata": {},
   "outputs": [
    {
     "data": {
      "text/plain": [
       "4"
      ]
     },
     "execution_count": 23,
     "metadata": {},
     "output_type": "execute_result"
    }
   ],
   "source": [
    "x = [15,10,2,84] + [1,4,8,7,9]\n",
    "x.index(x.count(x[0]))"
   ]
  },
  {
   "cell_type": "code",
   "execution_count": 24,
   "id": "eafe6be4",
   "metadata": {},
   "outputs": [
    {
     "name": "stdout",
     "output_type": "stream",
     "text": [
      "['3' '4' 'True' 'False' '5.2']\n"
     ]
    }
   ],
   "source": [
    "import numpy as np\n",
    "x = np.array([3, 4, True, False, \"5.2\"])\n",
    "print(x)"
   ]
  },
  {
   "cell_type": "code",
   "execution_count": 25,
   "id": "1be037c5",
   "metadata": {},
   "outputs": [
    {
     "name": "stdout",
     "output_type": "stream",
     "text": [
      "1.55\n"
     ]
    }
   ],
   "source": [
    "import numpy as np\n",
    "np_heights = np.array([[1.60,1.75],[1.56,1.70],[1.49,1.68]])\n",
    "print(np.mean(np_heights[:,0]))"
   ]
  },
  {
   "cell_type": "code",
   "execution_count": 27,
   "id": "4ba4f6d6",
   "metadata": {},
   "outputs": [
    {
     "name": "stdout",
     "output_type": "stream",
     "text": [
      "[[1.         0.92155064]\n",
      " [0.92155064 1.        ]]\n"
     ]
    }
   ],
   "source": [
    "import numpy as np\n",
    "np_heights = np.array([[1.60,1.75],[1.56,1.70],[1.49,1.68]])\n",
    "print(np.corrcoef(np_heights[:,0], np_heights[:,1]))"
   ]
  },
  {
   "cell_type": "code",
   "execution_count": 29,
   "id": "0a82f52d",
   "metadata": {},
   "outputs": [
    {
     "data": {
      "text/plain": [
       "array(['0', 'True', 'python'], dtype='<U11')"
      ]
     },
     "execution_count": 29,
     "metadata": {},
     "output_type": "execute_result"
    }
   ],
   "source": [
    "np.array([0, True, \"python\"])"
   ]
  },
  {
   "cell_type": "code",
   "execution_count": 30,
   "id": "b34a6982",
   "metadata": {},
   "outputs": [
    {
     "name": "stdout",
     "output_type": "stream",
     "text": [
      "[-1, 2, 3]\n"
     ]
    }
   ],
   "source": [
    "x = [1,2,3]\n",
    "y = x\n",
    "y[0] = -1\n",
    "print(x)"
   ]
  },
  {
   "cell_type": "code",
   "execution_count": 31,
   "id": "46002e7d",
   "metadata": {},
   "outputs": [
    {
     "name": "stdout",
     "output_type": "stream",
     "text": [
      "6666\n"
     ]
    }
   ],
   "source": [
    "print(\"6\" * (2 ** 2))"
   ]
  },
  {
   "cell_type": "code",
   "execution_count": 32,
   "id": "465cb93e",
   "metadata": {},
   "outputs": [
    {
     "data": {
      "text/plain": [
       "10.679507275978068"
      ]
     },
     "execution_count": 32,
     "metadata": {},
     "output_type": "execute_result"
    }
   ],
   "source": [
    "np.random.normal(10)"
   ]
  },
  {
   "cell_type": "code",
   "execution_count": 33,
   "id": "8365694a",
   "metadata": {},
   "outputs": [
    {
     "name": "stdout",
     "output_type": "stream",
     "text": [
      "[8 4 6]\n"
     ]
    }
   ],
   "source": [
    "import numpy as np\n",
    "m = np.array([6, 2, 4])\n",
    "n = 2\n",
    "print(m + n)"
   ]
  },
  {
   "cell_type": "code",
   "execution_count": 34,
   "id": "bec56e8b",
   "metadata": {},
   "outputs": [
    {
     "data": {
      "text/plain": [
       "[1, 0, 1, 2, 4, 6]"
      ]
     },
     "execution_count": 34,
     "metadata": {},
     "output_type": "execute_result"
    }
   ],
   "source": [
    "[1, 0, 1] + [2, 4, 6]"
   ]
  },
  {
   "cell_type": "code",
   "execution_count": 35,
   "id": "6cd617bd",
   "metadata": {},
   "outputs": [
    {
     "name": "stdout",
     "output_type": "stream",
     "text": [
      "['e', 'a', 'b']\n"
     ]
    }
   ],
   "source": [
    "x = [\"e\",\"a\",\"b\"]\n",
    "y = x[1:]\n",
    "y[0] = \"g\"\n",
    "print(x)"
   ]
  },
  {
   "cell_type": "code",
   "execution_count": 37,
   "id": "7e514092",
   "metadata": {},
   "outputs": [
    {
     "name": "stdout",
     "output_type": "stream",
     "text": [
      "[2]\n"
     ]
    }
   ],
   "source": [
    "import numpy as np\n",
    "store = np.array([\"X\", \"Z\", \"Z\", \"Z\"])\n",
    "cost  = np.array([2, 6, 5, 2])\n",
    "select_cost = cost[store == \"X\"]\n",
    "print(select_cost)"
   ]
  },
  {
   "cell_type": "code",
   "execution_count": 39,
   "id": "2edcb807",
   "metadata": {},
   "outputs": [
    {
     "data": {
      "text/plain": [
       "array([3.14159265, 7.06858347, 8.04247719])"
      ]
     },
     "execution_count": 39,
     "metadata": {},
     "output_type": "execute_result"
    }
   ],
   "source": [
    "import math\n",
    "radius = np.array([1, 1.5, 1.6])\n",
    "area = math.pi * (radius ** 2)\n",
    "area"
   ]
  },
  {
   "cell_type": "code",
   "execution_count": 40,
   "id": "b11eb22e",
   "metadata": {},
   "outputs": [
    {
     "data": {
      "text/plain": [
       "'xx'"
      ]
     },
     "execution_count": 40,
     "metadata": {},
     "output_type": "execute_result"
    }
   ],
   "source": [
    "'x'*2"
   ]
  },
  {
   "cell_type": "code",
   "execution_count": 41,
   "id": "e8777f05",
   "metadata": {},
   "outputs": [
    {
     "ename": "TypeError",
     "evalue": "can't multiply sequence by non-int of type 'str'",
     "output_type": "error",
     "traceback": [
      "\u001b[1;31m---------------------------------------------------------------------------\u001b[0m",
      "\u001b[1;31mTypeError\u001b[0m                                 Traceback (most recent call last)",
      "\u001b[1;32m<ipython-input-41-bdef0d31113b>\u001b[0m in \u001b[0;36m<module>\u001b[1;34m\u001b[0m\n\u001b[1;32m----> 1\u001b[1;33m \u001b[1;34m'x'\u001b[0m\u001b[1;33m*\u001b[0m\u001b[1;34m'5'\u001b[0m\u001b[1;33m\u001b[0m\u001b[1;33m\u001b[0m\u001b[0m\n\u001b[0m",
      "\u001b[1;31mTypeError\u001b[0m: can't multiply sequence by non-int of type 'str'"
     ]
    }
   ],
   "source": [
    "'x'*'5'"
   ]
  },
  {
   "cell_type": "code",
   "execution_count": 44,
   "id": "8e30e6c7",
   "metadata": {},
   "outputs": [
    {
     "name": "stdout",
     "output_type": "stream",
     "text": [
      "1.675\n"
     ]
    }
   ],
   "source": [
    "x= [1.75,1.65,1.8,1.5]\n",
    "print(np.mean(x))"
   ]
  },
  {
   "cell_type": "code",
   "execution_count": 45,
   "id": "c7446cb9",
   "metadata": {},
   "outputs": [
    {
     "name": "stdout",
     "output_type": "stream",
     "text": [
      "1.56\n"
     ]
    }
   ],
   "source": [
    "import numpy as np\n",
    "np_heights = np.array([[1.75,1.65,1.8,1.5],[1.56,1.70,1.4,1.29],[1.49,1.68,1.3,1.8]])\n",
    "np.sort(np_heights[0])\n",
    "print(np.median(np_heights[:,0]))"
   ]
  },
  {
   "cell_type": "code",
   "execution_count": 46,
   "id": "615b6747",
   "metadata": {},
   "outputs": [
    {
     "data": {
      "text/plain": [
       "'Python exercise'"
      ]
     },
     "execution_count": 46,
     "metadata": {},
     "output_type": "execute_result"
    }
   ],
   "source": [
    "x = \"python\" + \" exercise\"\n",
    "x.capitalize()"
   ]
  },
  {
   "cell_type": "code",
   "execution_count": 48,
   "id": "eff0bec9",
   "metadata": {},
   "outputs": [
    {
     "name": "stdout",
     "output_type": "stream",
     "text": [
      "(2, 4)\n"
     ]
    }
   ],
   "source": [
    "import numpy as np\n",
    "x = np.array([10, 23, 14, 27])\n",
    "y = np.array([3, 5, 7, 26])\n",
    "z = np.array([x, y])\n",
    "print(z.shape)"
   ]
  },
  {
   "cell_type": "code",
   "execution_count": null,
   "id": "55bf909e",
   "metadata": {},
   "outputs": [],
   "source": []
  }
 ],
 "metadata": {
  "kernelspec": {
   "display_name": "Python 3",
   "language": "python",
   "name": "python3"
  },
  "language_info": {
   "codemirror_mode": {
    "name": "ipython",
    "version": 3
   },
   "file_extension": ".py",
   "mimetype": "text/x-python",
   "name": "python",
   "nbconvert_exporter": "python",
   "pygments_lexer": "ipython3",
   "version": "3.8.8"
  }
 },
 "nbformat": 4,
 "nbformat_minor": 5
}
