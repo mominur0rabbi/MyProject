{
 "cells": [
  {
   "cell_type": "code",
   "execution_count": 1,
   "id": "5ff29eff",
   "metadata": {},
   "outputs": [],
   "source": [
    "import pandas as pd"
   ]
  },
  {
   "cell_type": "code",
   "execution_count": 2,
   "id": "e3804319",
   "metadata": {},
   "outputs": [
    {
     "data": {
      "text/plain": [
       "29"
      ]
     },
     "execution_count": 2,
     "metadata": {},
     "output_type": "execute_result"
    }
   ],
   "source": [
    "from datetime import datetime, date, time\n",
    "dt = datetime(2011, 10, 29, 20, 30, 21)# year, month, day, hour, minute, second\n",
    "dt.day\n"
   ]
  },
  {
   "cell_type": "code",
   "execution_count": 3,
   "id": "1f27d700",
   "metadata": {},
   "outputs": [
    {
     "data": {
      "text/plain": [
       "'10/29/2011 20:30'"
      ]
     },
     "execution_count": 3,
     "metadata": {},
     "output_type": "execute_result"
    }
   ],
   "source": [
    "dt.strftime('%m/%d/%Y %H:%M')"
   ]
  },
  {
   "cell_type": "code",
   "execution_count": 4,
   "id": "e34f9768",
   "metadata": {},
   "outputs": [
    {
     "data": {
      "text/plain": [
       "'29/10/2011 20:30'"
      ]
     },
     "execution_count": 4,
     "metadata": {},
     "output_type": "execute_result"
    }
   ],
   "source": [
    "dt.strftime('%d/%m/%Y %H:%M')"
   ]
  },
  {
   "cell_type": "code",
   "execution_count": 5,
   "id": "0ac8e42b",
   "metadata": {},
   "outputs": [
    {
     "data": {
      "text/plain": [
       "'29/10/2011'"
      ]
     },
     "execution_count": 5,
     "metadata": {},
     "output_type": "execute_result"
    }
   ],
   "source": [
    "dt.strftime('%d/%m/%Y')"
   ]
  },
  {
   "cell_type": "code",
   "execution_count": 6,
   "id": "64ba782d",
   "metadata": {},
   "outputs": [],
   "source": [
    "delta = datetime(2019, 1, 7) - datetime(2018, 6, 24, 8, 15)"
   ]
  },
  {
   "cell_type": "code",
   "execution_count": 7,
   "id": "755a61b1",
   "metadata": {},
   "outputs": [
    {
     "data": {
      "text/plain": [
       "datetime.timedelta(days=196, seconds=56700)"
      ]
     },
     "execution_count": 7,
     "metadata": {},
     "output_type": "execute_result"
    }
   ],
   "source": [
    "delta"
   ]
  },
  {
   "cell_type": "code",
   "execution_count": 8,
   "id": "3f3d3527",
   "metadata": {},
   "outputs": [
    {
     "data": {
      "text/plain": [
       "datetime.timedelta(days=196, seconds=56700)"
      ]
     },
     "execution_count": 8,
     "metadata": {},
     "output_type": "execute_result"
    }
   ],
   "source": [
    "delta#.second"
   ]
  },
  {
   "cell_type": "code",
   "execution_count": 10,
   "id": "431ea883",
   "metadata": {},
   "outputs": [
    {
     "data": {
      "text/plain": [
       "56700"
      ]
     },
     "execution_count": 10,
     "metadata": {},
     "output_type": "execute_result"
    }
   ],
   "source": [
    "delta.seconds"
   ]
  },
  {
   "cell_type": "code",
   "execution_count": 11,
   "id": "3b8ec18e",
   "metadata": {},
   "outputs": [
    {
     "name": "stdout",
     "output_type": "stream",
     "text": [
      "2019-01-03 00:00:00\n",
      "2019-01-03\n"
     ]
    }
   ],
   "source": [
    "stamp = datetime(2019, 1, 3)\n",
    "print (str(stamp))\n",
    "print(stamp.strftime('%Y-%m-%d'))\n"
   ]
  },
  {
   "cell_type": "code",
   "execution_count": 12,
   "id": "bb18378f",
   "metadata": {},
   "outputs": [
    {
     "data": {
      "text/plain": [
       "datetime.datetime(2019, 1, 3, 0, 0)"
      ]
     },
     "execution_count": 12,
     "metadata": {},
     "output_type": "execute_result"
    }
   ],
   "source": [
    "value = '19-January-03'\n",
    "datetime.strptime(value, '%y-%B-%d')\n"
   ]
  },
  {
   "cell_type": "code",
   "execution_count": 13,
   "id": "53b15563",
   "metadata": {},
   "outputs": [
    {
     "data": {
      "text/plain": [
       "2000-01-31    0.667165\n",
       "2000-02-29    0.550218\n",
       "2000-03-31    0.655984\n",
       "2000-04-30   -0.991852\n",
       "Freq: M, dtype: float64"
      ]
     },
     "execution_count": 13,
     "metadata": {},
     "output_type": "execute_result"
    }
   ],
   "source": [
    "import pandas as pd\n",
    "import numpy as np\n",
    "ts = pd.Series(np.random.randn(4),\n",
    "index=pd.date_range('1/1/2000', periods=4, freq='M'))\n",
    "ts\n"
   ]
  },
  {
   "cell_type": "code",
   "execution_count": 14,
   "id": "55d92e77",
   "metadata": {},
   "outputs": [
    {
     "data": {
      "text/plain": [
       "2000-03-31   -1.273015\n",
       "2000-06-30    1.287585\n",
       "2000-09-30    1.318320\n",
       "2000-12-31    0.793819\n",
       "Freq: Q-DEC, dtype: float64"
      ]
     },
     "execution_count": 14,
     "metadata": {},
     "output_type": "execute_result"
    }
   ],
   "source": [
    "import pandas as pd\n",
    "import numpy as np\n",
    "ts = pd.Series(np.random.randn(4),\n",
    "index=pd.date_range('1/1/2000', periods=4, freq='Q'))\n",
    "ts\n"
   ]
  },
  {
   "cell_type": "code",
   "execution_count": 15,
   "id": "23ebf4a0",
   "metadata": {},
   "outputs": [
    {
     "data": {
      "text/plain": [
       "2000-12-31    1.689688\n",
       "2001-12-31   -0.221436\n",
       "2002-12-31    0.534724\n",
       "2003-12-31   -1.113147\n",
       "Freq: A-DEC, dtype: float64"
      ]
     },
     "execution_count": 15,
     "metadata": {},
     "output_type": "execute_result"
    }
   ],
   "source": [
    "import pandas as pd\n",
    "import numpy as np\n",
    "ts = pd.Series(np.random.randn(4),\n",
    "index=pd.date_range('1/1/2000', periods=4, freq='Y'))\n",
    "ts\n"
   ]
  },
  {
   "cell_type": "code",
   "execution_count": 17,
   "id": "f447c15f",
   "metadata": {},
   "outputs": [
    {
     "data": {
      "text/plain": [
       "2000-01-31   -1.109239\n",
       "2000-02-29    0.400026\n",
       "2000-03-31    1.002201\n",
       "2000-04-30   -1.128296\n",
       "Freq: M, dtype: float64"
      ]
     },
     "execution_count": 17,
     "metadata": {},
     "output_type": "execute_result"
    }
   ],
   "source": [
    "ts = pd.Series(np.random.randn(4),\n",
    "index=pd.date_range('1/1/2000', periods=4, freq='M'))\n",
    "ts"
   ]
  },
  {
   "cell_type": "code",
   "execution_count": 16,
   "id": "cf2bd534",
   "metadata": {},
   "outputs": [
    {
     "data": {
      "text/plain": [
       "2000-01-31         NaN\n",
       "2000-02-29         NaN\n",
       "2000-03-31    0.187939\n",
       "2000-04-30   -0.793735\n",
       "Freq: M, dtype: float64"
      ]
     },
     "execution_count": 16,
     "metadata": {},
     "output_type": "execute_result"
    }
   ],
   "source": [
    "ts = pd.Series(np.random.randn(4),\n",
    "index=pd.date_range('1/1/2000', periods=4, freq='M'))\n",
    "ts.shift(2)"
   ]
  },
  {
   "cell_type": "code",
   "execution_count": 18,
   "id": "41846997",
   "metadata": {},
   "outputs": [
    {
     "data": {
      "text/plain": [
       "Timestamp('2011-11-20 00:00:00')"
      ]
     },
     "execution_count": 18,
     "metadata": {},
     "output_type": "execute_result"
    }
   ],
   "source": [
    "from pandas.tseries.offsets import Day, MonthEnd\n",
    "now = datetime(2011, 11, 17)\n",
    "now + 3 * Day()\n"
   ]
  },
  {
   "cell_type": "code",
   "execution_count": 19,
   "id": "8cfe1928",
   "metadata": {},
   "outputs": [
    {
     "data": {
      "text/plain": [
       "Timestamp('2011-11-30 00:00:00')"
      ]
     },
     "execution_count": 19,
     "metadata": {},
     "output_type": "execute_result"
    }
   ],
   "source": [
    "now + MonthEnd()"
   ]
  },
  {
   "cell_type": "code",
   "execution_count": 20,
   "id": "2bdbea6d",
   "metadata": {},
   "outputs": [
    {
     "data": {
      "text/plain": [
       "Timestamp('2011-12-31 00:00:00')"
      ]
     },
     "execution_count": 20,
     "metadata": {},
     "output_type": "execute_result"
    }
   ],
   "source": [
    "now + MonthEnd(2)"
   ]
  },
  {
   "cell_type": "code",
   "execution_count": null,
   "id": "7b7a6110",
   "metadata": {},
   "outputs": [],
   "source": []
  }
 ],
 "metadata": {
  "kernelspec": {
   "display_name": "Python 3",
   "language": "python",
   "name": "python3"
  },
  "language_info": {
   "codemirror_mode": {
    "name": "ipython",
    "version": 3
   },
   "file_extension": ".py",
   "mimetype": "text/x-python",
   "name": "python",
   "nbconvert_exporter": "python",
   "pygments_lexer": "ipython3",
   "version": "3.8.8"
  }
 },
 "nbformat": 4,
 "nbformat_minor": 5
}
