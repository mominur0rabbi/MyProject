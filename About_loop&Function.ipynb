{
 "cells": [
  {
   "cell_type": "code",
   "execution_count": 1,
   "id": "2b4ad619",
   "metadata": {},
   "outputs": [],
   "source": [
    "import pandas as pd"
   ]
  },
  {
   "cell_type": "code",
   "execution_count": 2,
   "id": "b6a8dae1",
   "metadata": {},
   "outputs": [
    {
     "name": "stdout",
     "output_type": "stream",
     "text": [
      "1\n",
      "2\n",
      "3\n",
      "4\n",
      "5\n",
      "6\n",
      "7\n"
     ]
    }
   ],
   "source": [
    "# Loops (while/for)\n",
    "num = 1\n",
    "while(num<8):\n",
    "    print(num)\n",
    "    num = num +1"
   ]
  },
  {
   "cell_type": "code",
   "execution_count": 3,
   "id": "7f8c8c84",
   "metadata": {},
   "outputs": [
    {
     "name": "stdout",
     "output_type": "stream",
     "text": [
      "1\n",
      "2\n",
      "3\n",
      "4\n"
     ]
    }
   ],
   "source": [
    "# break statement\n",
    "num = 1\n",
    "while(num<8):\n",
    "    print(num)\n",
    "    num = num +1\n",
    "    if num == 5:\n",
    "        break"
   ]
  },
  {
   "cell_type": "code",
   "execution_count": 4,
   "id": "72933345",
   "metadata": {},
   "outputs": [
    {
     "name": "stdout",
     "output_type": "stream",
     "text": [
      "1\n",
      "2\n",
      "3\n",
      "4\n",
      "5\n",
      "6\n",
      "7\n",
      "Loop is completed.\n"
     ]
    }
   ],
   "source": [
    "# Loops (while else)\n",
    "num = 1\n",
    "while(num<8):\n",
    "    print(num)\n",
    "    num = num +1\n",
    "else:\n",
    "    print(\"Loop is completed.\")"
   ]
  },
  {
   "cell_type": "code",
   "execution_count": 5,
   "id": "157f3a18",
   "metadata": {},
   "outputs": [
    {
     "name": "stdout",
     "output_type": "stream",
     "text": [
      "1\n",
      "2\n",
      "3\n",
      "4\n"
     ]
    }
   ],
   "source": [
    "# Loops (while else)\n",
    "num = 1\n",
    "while(num<8):\n",
    "    print(num)\n",
    "    num = num +1\n",
    "    if num == 5:\n",
    "        break\n",
    "else:\n",
    "    print(\"Loop is completed.\")"
   ]
  },
  {
   "cell_type": "code",
   "execution_count": 6,
   "id": "d03c601a",
   "metadata": {},
   "outputs": [
    {
     "name": "stdout",
     "output_type": "stream",
     "text": [
      "2\n",
      "3\n",
      "4\n",
      "5\n",
      "6\n",
      "7\n",
      "8\n"
     ]
    }
   ],
   "source": [
    "#Positioning increment\n",
    "num = 1\n",
    "while(num<8):\n",
    "    num = num + 1\n",
    "    print(num)\n",
    "    \n"
   ]
  },
  {
   "cell_type": "code",
   "execution_count": 8,
   "id": "145aa5f4",
   "metadata": {},
   "outputs": [
    {
     "name": "stdout",
     "output_type": "stream",
     "text": [
      "fig\n",
      "apple\n",
      "banna\n",
      "lemon\n"
     ]
    }
   ],
   "source": [
    "# For loop \n",
    "# iterate over a sequence\n",
    "# syntax: \n",
    "    # for val in sequence\n",
    "   # body of for loop\n",
    "fruits =[\"fig\", \"apple\", \"banna\", \"lemon\"]\n",
    "for i in fruits:\n",
    "    print(i)"
   ]
  },
  {
   "cell_type": "code",
   "execution_count": 9,
   "id": "0ddb113c",
   "metadata": {},
   "outputs": [
    {
     "name": "stdout",
     "output_type": "stream",
     "text": [
      "fig\n",
      "apple\n",
      "banna\n"
     ]
    }
   ],
   "source": [
    "fruits =[\"fig\", \"apple\", \"banna\", \"lemon\"]\n",
    "for i in fruits:\n",
    "    print(i)\n",
    "    if i == \"banna\": \n",
    "        break"
   ]
  },
  {
   "cell_type": "code",
   "execution_count": 10,
   "id": "8bf1fa6b",
   "metadata": {},
   "outputs": [
    {
     "name": "stdout",
     "output_type": "stream",
     "text": [
      "fig\n",
      "apple\n",
      "banna\n",
      "lemon\n",
      "Completed\n"
     ]
    }
   ],
   "source": [
    "fruits =[\"fig\", \"apple\", \"banna\", \"lemon\"]\n",
    "for i in fruits:\n",
    "    print(i)\n",
    "else:\n",
    "    print(\"Completed\")"
   ]
  },
  {
   "cell_type": "code",
   "execution_count": 12,
   "id": "64a2b888",
   "metadata": {},
   "outputs": [
    {
     "name": "stdout",
     "output_type": "stream",
     "text": [
      "fig\n",
      "apple\n",
      "banna\n"
     ]
    }
   ],
   "source": [
    "fruits =[\"fig\", \"apple\", \"banna\", \"lemon\"]\n",
    "for i in fruits:\n",
    "    print(i)\n",
    "    if i == \"banna\":\n",
    "        break\n",
    "else:\n",
    "    print(\"Completed\")"
   ]
  },
  {
   "cell_type": "code",
   "execution_count": 14,
   "id": "63f4577d",
   "metadata": {},
   "outputs": [
    {
     "name": "stdout",
     "output_type": "stream",
     "text": [
      "ten\n"
     ]
    }
   ],
   "source": [
    "spam = 10\n",
    "\n",
    "if spam > 8:\n",
    "\n",
    "    print(\"ten\")\n",
    "\n",
    "if spam > 11:\n",
    "\n",
    "    print(\"greater than 11\")"
   ]
  },
  {
   "cell_type": "code",
   "execution_count": 17,
   "id": "76411ddc",
   "metadata": {},
   "outputs": [
    {
     "name": "stdout",
     "output_type": "stream",
     "text": [
      "Holy Land college, Dinajpur.\n",
      "Holy Land college, Dinajpur.\n",
      "Holy Land college, Dinajpur.\n"
     ]
    }
   ],
   "source": [
    "# Functions\n",
    "# Block of code/ Group of statement/ Parameters/ Smaller chunks\n",
    "# function definition\n",
    "def hello_hlc():\n",
    "    print(\"Holy Land college, Dinajpur.\")\n",
    "hello_hlc() # function calling\n",
    "hello_hlc()\n",
    "hello_hlc()\n"
   ]
  },
  {
   "cell_type": "code",
   "execution_count": 18,
   "id": "07722683",
   "metadata": {},
   "outputs": [
    {
     "name": "stdout",
     "output_type": "stream",
     "text": [
      "HLC Teacher: Rabbi\n",
      "HLC Teacher: Satyen\n",
      "HLC Teacher: Basar\n"
     ]
    }
   ],
   "source": [
    "# arguments (pass data ito a function)\n",
    "def hello_hlc(name): # here name is argument\n",
    "    print(\"HLC Teacher: \" + name)\n",
    "# function calling\n",
    "hello_hlc(\"Rabbi\")\n",
    "hello_hlc(\"Satyen\")\n",
    "hello_hlc(\"Basar\")\n"
   ]
  },
  {
   "cell_type": "code",
   "execution_count": 20,
   "id": "49cd429f",
   "metadata": {},
   "outputs": [
    {
     "name": "stdout",
     "output_type": "stream",
     "text": [
      "HLC Teacher: Rabbi\n",
      "HLC Teacher: Satyen\n",
      "HLC Teacher: Basar\n",
      "HLC Teacher: Jahangir\n"
     ]
    }
   ],
   "source": [
    "def hello_hlc(name=\"Jahangir\"): # here name is argument and Jahangir is default value\n",
    "    print(\"HLC Teacher: \" + name)\n",
    "# function calling\n",
    "hello_hlc(\"Rabbi\")\n",
    "hello_hlc(\"Satyen\")\n",
    "hello_hlc(\"Basar\")\n",
    "hello_hlc()"
   ]
  },
  {
   "cell_type": "code",
   "execution_count": 22,
   "id": "05e17781",
   "metadata": {},
   "outputs": [
    {
     "name": "stdout",
     "output_type": "stream",
     "text": [
      "fig\n",
      "banana\n",
      "mango\n"
     ]
    }
   ],
   "source": [
    "# List as a parameter\n",
    "def foods (fruit):\n",
    "    for x in fruit:\n",
    "        print(x)\n",
    "my_fruits = [\"fig\", \"banana\",\"mango\" ]\n",
    "foods(my_fruits)"
   ]
  },
  {
   "cell_type": "markdown",
   "id": "94a51b53",
   "metadata": {},
   "source": [
    "# Return value\n",
    "# function return a value\n",
    "# go back to the place from where it was called\n",
    "# Return expression\n"
   ]
  },
  {
   "cell_type": "code",
   "execution_count": 24,
   "id": "1c41c293",
   "metadata": {},
   "outputs": [
    {
     "name": "stdout",
     "output_type": "stream",
     "text": [
      "50\n",
      "60\n",
      "70\n"
     ]
    }
   ],
   "source": [
    "# Return value\n",
    "def numbers(x):\n",
    "    return 10 * x\n",
    "\n",
    "print(numbers(5))\n",
    "print(numbers(6))\n",
    "print(numbers(7))\n"
   ]
  },
  {
   "cell_type": "code",
   "execution_count": 2,
   "id": "46a3b5a9",
   "metadata": {},
   "outputs": [
    {
     "name": "stdout",
     "output_type": "stream",
     "text": [
      "The 1st Fruits name: apple\n",
      "The 2nd Fruits name: banana\n",
      "The 3rd Fruits name: lemon\n"
     ]
    }
   ],
   "source": [
    "# Key value Agrument\n",
    "def fruits(fruit1,fruit2, fruit3):\n",
    "    print(\"The 1st Fruits name: \" + fruit1)\n",
    "    print(\"The 2nd Fruits name: \" + fruit2)\n",
    "    print(\"The 3rd Fruits name: \" + fruit3)\n",
    "    \n",
    "fruits(fruit1= 'apple',fruit2='banana', fruit3='lemon')\n",
    "\n"
   ]
  },
  {
   "cell_type": "code",
   "execution_count": 5,
   "id": "03e8f63b",
   "metadata": {},
   "outputs": [
    {
     "name": "stdout",
     "output_type": "stream",
     "text": [
      "The fruit is apple\n"
     ]
    }
   ],
   "source": [
    "#  Arbitary argument\n",
    "# pass tuple into a function\n",
    "def new_function(*fruits):\n",
    "    print(\"The fruit is \" + fruits[1])\n",
    "new_function('banana', 'apple', 'fig')\n"
   ]
  },
  {
   "cell_type": "code",
   "execution_count": 6,
   "id": "56c1bb83",
   "metadata": {},
   "outputs": [
    {
     "name": "stdout",
     "output_type": "stream",
     "text": [
      "The fruit is fig\n"
     ]
    }
   ],
   "source": [
    "def new_function(*fruits):\n",
    "    print(\"The fruit is \" + fruits[2])\n",
    "new_function('banana', 'apple', 'fig')"
   ]
  },
  {
   "cell_type": "code",
   "execution_count": 7,
   "id": "83e735f6",
   "metadata": {},
   "outputs": [
    {
     "name": "stdout",
     "output_type": "stream",
     "text": [
      "\n",
      "\n",
      " recursion results\n",
      "1\n",
      "3\n",
      "6\n",
      "10\n",
      "15\n",
      "21\n",
      "28\n",
      "36\n"
     ]
    },
    {
     "data": {
      "text/plain": [
       "36"
      ]
     },
     "execution_count": 7,
     "metadata": {},
     "output_type": "execute_result"
    }
   ],
   "source": [
    "# recursion (Repete) function (a function call itself)\n",
    "def new_recursion(n):\n",
    "    if(n>0):\n",
    "        result = n + new_recursion(n-1)\n",
    "        print(result)\n",
    "    else:\n",
    "        result = 0\n",
    "    return result\n",
    "\n",
    "print(\"\\n\\n recursion results\")\n",
    "new_recursion(8)\n",
    "\n",
    "\n"
   ]
  },
  {
   "cell_type": "code",
   "execution_count": 8,
   "id": "42dbed6e",
   "metadata": {},
   "outputs": [
    {
     "name": "stdout",
     "output_type": "stream",
     "text": [
      "30\n"
     ]
    }
   ],
   "source": [
    "# Lambda function (anonymous/ multiple args with one exp.\n",
    "a = lambda x: x + 20\n",
    "print(a(10))"
   ]
  },
  {
   "cell_type": "code",
   "execution_count": 9,
   "id": "02196320",
   "metadata": {},
   "outputs": [
    {
     "name": "stdout",
     "output_type": "stream",
     "text": [
      "100\n"
     ]
    }
   ],
   "source": [
    "a = lambda x: x * 20\n",
    "print(a(5))"
   ]
  },
  {
   "cell_type": "code",
   "execution_count": 10,
   "id": "a53f77f3",
   "metadata": {},
   "outputs": [
    {
     "name": "stdout",
     "output_type": "stream",
     "text": [
      "4.4\n"
     ]
    }
   ],
   "source": [
    "a = lambda y: y / 5\n",
    "print(a(22))"
   ]
  },
  {
   "cell_type": "code",
   "execution_count": 11,
   "id": "f1d8ce42",
   "metadata": {},
   "outputs": [
    {
     "name": "stdout",
     "output_type": "stream",
     "text": [
      "4\n"
     ]
    }
   ],
   "source": [
    "a = lambda y: y // 5\n",
    "print(a(22))"
   ]
  },
  {
   "cell_type": "code",
   "execution_count": 12,
   "id": "035c10b4",
   "metadata": {},
   "outputs": [
    {
     "name": "stdout",
     "output_type": "stream",
     "text": [
      "2\n"
     ]
    }
   ],
   "source": [
    "a = lambda y: y % 5\n",
    "print(a(22))"
   ]
  },
  {
   "cell_type": "code",
   "execution_count": 14,
   "id": "af19814d",
   "metadata": {},
   "outputs": [
    {
     "name": "stdout",
     "output_type": "stream",
     "text": [
      "16\n"
     ]
    }
   ],
   "source": [
    "a = lambda y: y ** 2\n",
    "print(a(4))"
   ]
  },
  {
   "cell_type": "code",
   "execution_count": 15,
   "id": "66dfd0f8",
   "metadata": {},
   "outputs": [
    {
     "name": "stdout",
     "output_type": "stream",
     "text": [
      "20\n"
     ]
    }
   ],
   "source": [
    "store_lambda = lambda x, y : x * y\n",
    "print(store_lambda(4,5))"
   ]
  },
  {
   "cell_type": "code",
   "execution_count": 17,
   "id": "e59972ad",
   "metadata": {},
   "outputs": [
    {
     "name": "stdout",
     "output_type": "stream",
     "text": [
      "30\n"
     ]
    }
   ],
   "source": [
    "store_args = lambda x, y, z : x * y + z \n",
    "# x, y, z are argument and x*y + z is statement\n",
    "print(store_args(4,5, 10))"
   ]
  },
  {
   "cell_type": "code",
   "execution_count": 20,
   "id": "3c122187",
   "metadata": {},
   "outputs": [
    {
     "name": "stdout",
     "output_type": "stream",
     "text": [
      "24\n",
      "60\n"
     ]
    }
   ],
   "source": [
    "# Lambda & Functions\n",
    "# anonymous with one are\n",
    "def new_multiplied(k):\n",
    "    return lambda x : x * k\n",
    "new1 = new_multiplied(2) # value of k=2\n",
    "new2 = new_multiplied(3) # value of k=3\n",
    "\n",
    "print(new1(12)) # value of x=12\n",
    "print(new2(20)) # value of x=20"
   ]
  },
  {
   "cell_type": "code",
   "execution_count": 21,
   "id": "65a48f8b",
   "metadata": {},
   "outputs": [
    {
     "name": "stdout",
     "output_type": "stream",
     "text": [
      "(8, 7)\n"
     ]
    }
   ],
   "source": [
    "def add(a, b):\n",
    "    return a+5, b+5\n",
    "result = add(3, 2)\n",
    "print(result)"
   ]
  },
  {
   "cell_type": "markdown",
   "id": "66a551b9",
   "metadata": {},
   "source": [
    "# Object oriente programming\n",
    "# class \n",
    "# object"
   ]
  },
  {
   "cell_type": "code",
   "execution_count": 22,
   "id": "867c8b38",
   "metadata": {},
   "outputs": [
    {
     "name": "stdout",
     "output_type": "stream",
     "text": [
      "Python is Fun!\n"
     ]
    }
   ],
   "source": [
    "# class construction\n",
    "class NewClass:\n",
    "    \n",
    "    def newFunc(self):\n",
    "        return 'Python is Fun!'\n",
    "    \n",
    "# object creation\n",
    "newObj = NewClass()\n",
    "# display the result\n",
    "print(newObj.newFunc())\n"
   ]
  },
  {
   "cell_type": "code",
   "execution_count": 23,
   "id": "21b444bf",
   "metadata": {},
   "outputs": [
    {
     "name": "stdout",
     "output_type": "stream",
     "text": [
      "Hello from NewHello function\n",
      "Hello from NewHello function\n"
     ]
    }
   ],
   "source": [
    "# multiple objects base on the same class\n",
    "class NewClass:\n",
    "    \n",
    "    def NewHello(self):\n",
    "        return \"Hello from NewHello function\"\n",
    "    \n",
    "# first object\n",
    "first_obj = NewClass()\n",
    "print(first_obj.NewHello())\n",
    "\n",
    "# second object\n",
    "second_obj = NewClass()\n",
    "print(second_obj.NewHello())\n"
   ]
  },
  {
   "cell_type": "code",
   "execution_count": 3,
   "id": "a716c282",
   "metadata": {},
   "outputs": [
    {
     "name": "stdout",
     "output_type": "stream",
     "text": [
      "11\n",
      "-2\n",
      "20\n",
      "31\n",
      "18\n",
      "70\n"
     ]
    }
   ],
   "source": [
    "# Multi Functions in class\n",
    "# More than one function\n",
    "# Pass arguments\n",
    "class DoMath:\n",
    "    def addition(self, x, y):\n",
    "        return x+y\n",
    "\n",
    "    def subtraction(self, x, y):\n",
    "        return x-y\n",
    "    \n",
    "    def multiplication(self, x, y):\n",
    "        return x*y\n",
    "# first object \n",
    "firstObj = DoMath()\n",
    "print(firstObj.addition(5,6))\n",
    "print(firstObj.subtraction(8,10))\n",
    "print(firstObj.multiplication(4,5))\n",
    "\n",
    "# Second object\n",
    "secondObj = DoMath()\n",
    "print(secondObj.addition(15,16))\n",
    "print(secondObj.subtraction(28,10))\n",
    "print(secondObj.multiplication(14,5))\n",
    "    "
   ]
  },
  {
   "cell_type": "markdown",
   "id": "e79fc2b0",
   "metadata": {},
   "source": [
    "# INIT function (is called automatically every time the class is being used to create a new object.)\n"
   ]
  },
  {
   "cell_type": "code",
   "execution_count": 8,
   "id": "675be590",
   "metadata": {},
   "outputs": [
    {
     "name": "stdout",
     "output_type": "stream",
     "text": [
      "Holy Land College\n"
     ]
    }
   ],
   "source": [
    "class NewClass:\n",
    "    \n",
    "    def __init__(self):\n",
    "        self.a =\"Holy Land College\"\n",
    "        \n",
    "    def hi(self):\n",
    "       return \"Dinajpur\"\n",
    "\n",
    "# frist object\n",
    "first_object = NewClass()\n",
    "\n",
    "# display the result\n",
    "print(first_object.a)\n",
    "print(first_object.hi())\n"
   ]
  },
  {
   "cell_type": "markdown",
   "id": "7eacb2d9",
   "metadata": {},
   "source": [
    "# Init and Object Method\n",
    "# Methods in objects are functios that belong to eht object\n",
    "\n"
   ]
  },
  {
   "cell_type": "code",
   "execution_count": 13,
   "id": "0ba96a1b",
   "metadata": {},
   "outputs": [
    {
     "name": "stdout",
     "output_type": "stream",
     "text": [
      "hi, My name is Rabbi\n",
      "My age is 52\n"
     ]
    }
   ],
   "source": [
    "class Player:\n",
    "    def __init__(self, name, age):\n",
    "        self.name = name\n",
    "        self.age = age\n",
    "    \n",
    "    def newHi(self):\n",
    "        print(\"Hi, My name is \" + self.name)\n",
    "        print(\"My age is \" + str(self.age))\n",
    "        \n",
    "o1 = Player(\"Rabbi\", 52)\n",
    "o1.newHi()\n"
   ]
  },
  {
   "cell_type": "code",
   "execution_count": 16,
   "id": "d19c77a5",
   "metadata": {},
   "outputs": [
    {
     "name": "stdout",
     "output_type": "stream",
     "text": [
      "Hi, My name is Rabbi\n"
     ]
    },
    {
     "ename": "AttributeError",
     "evalue": "'Player' object has no attribute 'age'",
     "output_type": "error",
     "traceback": [
      "\u001b[1;31m---------------------------------------------------------------------------\u001b[0m",
      "\u001b[1;31mAttributeError\u001b[0m                            Traceback (most recent call last)",
      "\u001b[1;32m<ipython-input-16-4922c3f2fa7b>\u001b[0m in \u001b[0;36m<module>\u001b[1;34m\u001b[0m\n\u001b[0;32m     12\u001b[0m \u001b[0mo1\u001b[0m \u001b[1;33m=\u001b[0m \u001b[0mPlayer\u001b[0m\u001b[1;33m(\u001b[0m\u001b[1;34m\"Rabbi\"\u001b[0m\u001b[1;33m,\u001b[0m \u001b[1;36m52\u001b[0m\u001b[1;33m)\u001b[0m\u001b[1;33m\u001b[0m\u001b[1;33m\u001b[0m\u001b[0m\n\u001b[0;32m     13\u001b[0m \u001b[1;32mdel\u001b[0m \u001b[0mo1\u001b[0m\u001b[1;33m.\u001b[0m\u001b[0mage\u001b[0m \u001b[1;31m# Delete the age properties in Player age=52\u001b[0m\u001b[1;33m\u001b[0m\u001b[1;33m\u001b[0m\u001b[0m\n\u001b[1;32m---> 14\u001b[1;33m \u001b[0mo1\u001b[0m\u001b[1;33m.\u001b[0m\u001b[0mnewHi\u001b[0m\u001b[1;33m(\u001b[0m\u001b[1;33m)\u001b[0m\u001b[1;33m\u001b[0m\u001b[1;33m\u001b[0m\u001b[0m\n\u001b[0m\u001b[0;32m     15\u001b[0m \u001b[1;31m# to Run this error for age properties\u001b[0m\u001b[1;33m\u001b[0m\u001b[1;33m\u001b[0m\u001b[1;33m\u001b[0m\u001b[0m\n",
      "\u001b[1;32m<ipython-input-16-4922c3f2fa7b>\u001b[0m in \u001b[0;36mnewHi\u001b[1;34m(self)\u001b[0m\n\u001b[0;32m      8\u001b[0m     \u001b[1;32mdef\u001b[0m \u001b[0mnewHi\u001b[0m\u001b[1;33m(\u001b[0m\u001b[0mself\u001b[0m\u001b[1;33m)\u001b[0m\u001b[1;33m:\u001b[0m\u001b[1;33m\u001b[0m\u001b[1;33m\u001b[0m\u001b[0m\n\u001b[0;32m      9\u001b[0m         \u001b[0mprint\u001b[0m\u001b[1;33m(\u001b[0m\u001b[1;34m\"Hi, My name is \"\u001b[0m \u001b[1;33m+\u001b[0m \u001b[0mself\u001b[0m\u001b[1;33m.\u001b[0m\u001b[0mname\u001b[0m\u001b[1;33m)\u001b[0m\u001b[1;33m\u001b[0m\u001b[1;33m\u001b[0m\u001b[0m\n\u001b[1;32m---> 10\u001b[1;33m         \u001b[0mprint\u001b[0m\u001b[1;33m(\u001b[0m\u001b[1;34m\"My age is \"\u001b[0m \u001b[1;33m+\u001b[0m \u001b[0mstr\u001b[0m\u001b[1;33m(\u001b[0m\u001b[0mself\u001b[0m\u001b[1;33m.\u001b[0m\u001b[0mage\u001b[0m\u001b[1;33m)\u001b[0m\u001b[1;33m)\u001b[0m\u001b[1;33m\u001b[0m\u001b[1;33m\u001b[0m\u001b[0m\n\u001b[0m\u001b[0;32m     11\u001b[0m \u001b[1;33m\u001b[0m\u001b[0m\n\u001b[0;32m     12\u001b[0m \u001b[0mo1\u001b[0m \u001b[1;33m=\u001b[0m \u001b[0mPlayer\u001b[0m\u001b[1;33m(\u001b[0m\u001b[1;34m\"Rabbi\"\u001b[0m\u001b[1;33m,\u001b[0m \u001b[1;36m52\u001b[0m\u001b[1;33m)\u001b[0m\u001b[1;33m\u001b[0m\u001b[1;33m\u001b[0m\u001b[0m\n",
      "\u001b[1;31mAttributeError\u001b[0m: 'Player' object has no attribute 'age'"
     ]
    }
   ],
   "source": [
    "# Del Keyword (Delete properties)\n",
    "\n",
    "class Player:\n",
    "    def __init__(self, name, age):\n",
    "        self.name = name\n",
    "        self.age = age\n",
    "    \n",
    "    def newHi(self):\n",
    "        print(\"Hi, My name is \" + self.name)\n",
    "        print(\"My age is \" + str(self.age))\n",
    "        \n",
    "o1 = Player(\"Rabbi\", 52)\n",
    "del o1.age # Delete the age properties in Player age=52\n",
    "o1.newHi()\n",
    "# to Run this error for age properties\n"
   ]
  },
  {
   "cell_type": "code",
   "execution_count": 17,
   "id": "2bf822c2",
   "metadata": {},
   "outputs": [
    {
     "ename": "NameError",
     "evalue": "name 'o1' is not defined",
     "output_type": "error",
     "traceback": [
      "\u001b[1;31m---------------------------------------------------------------------------\u001b[0m",
      "\u001b[1;31mNameError\u001b[0m                                 Traceback (most recent call last)",
      "\u001b[1;32m<ipython-input-17-96f879e2a170>\u001b[0m in \u001b[0;36m<module>\u001b[1;34m\u001b[0m\n\u001b[0;32m     11\u001b[0m \u001b[0mo1\u001b[0m \u001b[1;33m=\u001b[0m \u001b[0mPlayer\u001b[0m\u001b[1;33m(\u001b[0m\u001b[1;34m\"Rabbi\"\u001b[0m\u001b[1;33m,\u001b[0m \u001b[1;36m52\u001b[0m\u001b[1;33m)\u001b[0m\u001b[1;33m\u001b[0m\u001b[1;33m\u001b[0m\u001b[0m\n\u001b[0;32m     12\u001b[0m \u001b[1;32mdel\u001b[0m \u001b[0mo1\u001b[0m \u001b[1;31m# Delete object Player\u001b[0m\u001b[1;33m\u001b[0m\u001b[1;33m\u001b[0m\u001b[0m\n\u001b[1;32m---> 13\u001b[1;33m \u001b[0mo1\u001b[0m\u001b[1;33m.\u001b[0m\u001b[0mnewHi\u001b[0m\u001b[1;33m(\u001b[0m\u001b[1;33m)\u001b[0m\u001b[1;33m\u001b[0m\u001b[1;33m\u001b[0m\u001b[0m\n\u001b[0m\u001b[0;32m     14\u001b[0m \u001b[1;31m# to Run this error for age properties\u001b[0m\u001b[1;33m\u001b[0m\u001b[1;33m\u001b[0m\u001b[1;33m\u001b[0m\u001b[0m\n",
      "\u001b[1;31mNameError\u001b[0m: name 'o1' is not defined"
     ]
    }
   ],
   "source": [
    "# Best way to delete object\n",
    "class Player:\n",
    "    def __init__(self, name, age):\n",
    "        self.name = name\n",
    "        self.age = age\n",
    "    \n",
    "    def newHi(self):\n",
    "        print(\"Hi, My name is \" + self.name)\n",
    "        print(\"My age is \" + str(self.age))\n",
    "        \n",
    "o1 = Player(\"Rabbi\", 52)\n",
    "del o1 # Delete object Player \n",
    "o1.newHi()\n",
    "# to Run this error for age properties\n"
   ]
  },
  {
   "cell_type": "code",
   "execution_count": 18,
   "id": "e13589df",
   "metadata": {},
   "outputs": [
    {
     "ename": "NameError",
     "evalue": "name 'o1' is not defined",
     "output_type": "error",
     "traceback": [
      "\u001b[1;31m---------------------------------------------------------------------------\u001b[0m",
      "\u001b[1;31mNameError\u001b[0m                                 Traceback (most recent call last)",
      "\u001b[1;32m<ipython-input-18-20debc4f5873>\u001b[0m in \u001b[0;36m<module>\u001b[1;34m\u001b[0m\n\u001b[1;32m----> 1\u001b[1;33m \u001b[0mprint\u001b[0m\u001b[1;33m(\u001b[0m\u001b[0mo1\u001b[0m\u001b[1;33m)\u001b[0m\u001b[1;33m\u001b[0m\u001b[1;33m\u001b[0m\u001b[0m\n\u001b[0m",
      "\u001b[1;31mNameError\u001b[0m: name 'o1' is not defined"
     ]
    }
   ],
   "source": [
    "print(o1)"
   ]
  },
  {
   "cell_type": "code",
   "execution_count": 19,
   "id": "bc0596f3",
   "metadata": {},
   "outputs": [
    {
     "name": "stdout",
     "output_type": "stream",
     "text": [
      "Hi, My name is Rabbi\n",
      "My age is 62\n"
     ]
    }
   ],
   "source": [
    "# Modefying object porperties\n",
    "class Player:\n",
    "    def __init__(self, name, age):\n",
    "        self.name = name\n",
    "        self.age = age\n",
    "    \n",
    "    def newHi(self):\n",
    "        print(\"Hi, My name is \" + self.name)\n",
    "        print(\"My age is \" + str(self.age))\n",
    "        \n",
    "o1 = Player(\"Rabbi\", 52)\n",
    "\n",
    "o1.age = 62 # Here modifying the age value\n",
    "o1.newHi()"
   ]
  },
  {
   "cell_type": "markdown",
   "id": "0bb99333",
   "metadata": {},
   "source": [
    "# Inheritance\n",
    "# define a class that inherits all the methods and properties from another class\n",
    "# child class vs Parent class"
   ]
  },
  {
   "cell_type": "code",
   "execution_count": 23,
   "id": "23884f83",
   "metadata": {},
   "outputs": [
    {
     "name": "stdout",
     "output_type": "stream",
     "text": [
      "Mominur  Rabbi\n",
      "Nur  Alam\n"
     ]
    }
   ],
   "source": [
    "# parent class\n",
    "class Anyone:\n",
    "    def __init__(self, firstname, lastname):\n",
    "        self.firstname = firstname\n",
    "        self.lastname = lastname\n",
    "        \n",
    "    def display(self):\n",
    "        print(self.firstname, self.lastname)\n",
    "        \n",
    "# object\n",
    "myObj = Anyone(\"Mominur \", \"Rabbi\")\n",
    "myObj.display()\n",
    "\n",
    "myObj1 = Anyone(\"Nur \", \"Alam\")\n",
    "myObj1.display()\n"
   ]
  },
  {
   "cell_type": "code",
   "execution_count": 24,
   "id": "6af00254",
   "metadata": {},
   "outputs": [
    {
     "name": "stdout",
     "output_type": "stream",
     "text": [
      "Saytendra  Nath Roy\n"
     ]
    }
   ],
   "source": [
    "# child Class (Child class by sending Parent class as a parameter)\n",
    "class Anyone:\n",
    "    def __init__(self, firstname, lastname):\n",
    "        self.firstname = firstname\n",
    "        self.lastname = lastname\n",
    "        \n",
    "    def display(self):\n",
    "        print(self.firstname, self.lastname)\n",
    "        \n",
    "# child class\n",
    "class Player(Anyone):\n",
    "    pass\n",
    "o1 = Player(\"Saytendra \", \"Nath Roy\")\n",
    "o1.display()\n"
   ]
  },
  {
   "cell_type": "code",
   "execution_count": 26,
   "id": "78c8fc57",
   "metadata": {},
   "outputs": [
    {
     "ename": "TypeError",
     "evalue": "sayHi() missing 1 required positional argument: 'name'",
     "output_type": "error",
     "traceback": [
      "\u001b[1;31m---------------------------------------------------------------------------\u001b[0m",
      "\u001b[1;31mTypeError\u001b[0m                                 Traceback (most recent call last)",
      "\u001b[1;32m<ipython-input-26-6f3fe4fc0f5f>\u001b[0m in \u001b[0;36m<module>\u001b[1;34m\u001b[0m\n\u001b[0;32m      6\u001b[0m \u001b[1;32mdef\u001b[0m \u001b[0msayHi\u001b[0m\u001b[1;33m(\u001b[0m\u001b[0mname\u001b[0m\u001b[1;33m)\u001b[0m\u001b[1;33m:\u001b[0m\u001b[1;33m\u001b[0m\u001b[1;33m\u001b[0m\u001b[0m\n\u001b[0;32m      7\u001b[0m     \u001b[0mprint\u001b[0m\u001b[1;33m(\u001b[0m\u001b[1;34m\"Hi, \"\u001b[0m \u001b[1;33m+\u001b[0m \u001b[0mname\u001b[0m\u001b[1;33m)\u001b[0m\u001b[1;33m\u001b[0m\u001b[1;33m\u001b[0m\u001b[0m\n\u001b[1;32m----> 8\u001b[1;33m \u001b[0msayHi\u001b[0m\u001b[1;33m(\u001b[0m\u001b[1;33m)\u001b[0m\u001b[1;33m\u001b[0m\u001b[1;33m\u001b[0m\u001b[0m\n\u001b[0m",
      "\u001b[1;31mTypeError\u001b[0m: sayHi() missing 1 required positional argument: 'name'"
     ]
    }
   ],
   "source": [
    "# Modules\n",
    "# A module is just a file containing a set of functions or statements you want to include in your application\n",
    "\n",
    "#to create a simple module in Python programming language.\n",
    "# create function to say hi\n",
    "def sayHi(name):\n",
    "    print(\"Hi, \" + name)\n",
    "sayHi()    "
   ]
  },
  {
   "cell_type": "code",
   "execution_count": null,
   "id": "0b0b8770",
   "metadata": {},
   "outputs": [],
   "source": []
  }
 ],
 "metadata": {
  "kernelspec": {
   "display_name": "Python 3",
   "language": "python",
   "name": "python3"
  },
  "language_info": {
   "codemirror_mode": {
    "name": "ipython",
    "version": 3
   },
   "file_extension": ".py",
   "mimetype": "text/x-python",
   "name": "python",
   "nbconvert_exporter": "python",
   "pygments_lexer": "ipython3",
   "version": "3.8.8"
  }
 },
 "nbformat": 4,
 "nbformat_minor": 5
}
