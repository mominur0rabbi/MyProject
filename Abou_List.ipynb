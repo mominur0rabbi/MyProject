{
 "cells": [
  {
   "cell_type": "markdown",
   "id": "4467a8a2",
   "metadata": {},
   "source": [
    "# Creating Lists\n",
    "A simple lists contains comma separated objects enclosed in square brackets\n",
    "emplty_list = []\n",
    "sample_list = [1, 2, 3 , 4, 4, 5, 5]\n",
    "List object types are not restricted so mix of object types can be single list\n",
    "mixed_list = ["
   ]
  },
  {
   "cell_type": "code",
   "execution_count": 1,
   "id": "7d33f9cc",
   "metadata": {},
   "outputs": [],
   "source": [
    "import pandas as pd"
   ]
  },
  {
   "cell_type": "code",
   "execution_count": 2,
   "id": "e2681ffa",
   "metadata": {},
   "outputs": [],
   "source": [
    "emplty_list = [] \n",
    "sample_list = [1, 2, 3 , 3, 4, 5, 5] "
   ]
  },
  {
   "cell_type": "code",
   "execution_count": 3,
   "id": "e1db4249",
   "metadata": {},
   "outputs": [
    {
     "name": "stdout",
     "output_type": "stream",
     "text": [
      "[]\n"
     ]
    }
   ],
   "source": [
    "print(emplty_list)"
   ]
  },
  {
   "cell_type": "code",
   "execution_count": 4,
   "id": "d3af7285",
   "metadata": {},
   "outputs": [
    {
     "name": "stdout",
     "output_type": "stream",
     "text": [
      "[1, 34, 0.999, 'chair', 'dog', [1, 2, 3, 3, 4, 5, 5], []]\n"
     ]
    }
   ],
   "source": [
    "mixed_list = [1, 34, .999, 'chair', 'dog', sample_list,emplty_list ]\n",
    "print(mixed_list)"
   ]
  },
  {
   "cell_type": "code",
   "execution_count": 5,
   "id": "5856f9e9",
   "metadata": {},
   "outputs": [
    {
     "name": "stdout",
     "output_type": "stream",
     "text": [
      "<class 'list'>\n"
     ]
    }
   ],
   "source": [
    "print(type(mixed_list))"
   ]
  },
  {
   "cell_type": "code",
   "execution_count": 6,
   "id": "2cc956c1",
   "metadata": {},
   "outputs": [
    {
     "data": {
      "text/plain": [
       "'Rabbi'"
      ]
     },
     "execution_count": 6,
     "metadata": {},
     "output_type": "execute_result"
    }
   ],
   "source": [
    "# Accessing Lists by using Index\n",
    "stu_name =['Rabbi', 'jamal', 'habib','motiur']\n",
    "stu_name[0]"
   ]
  },
  {
   "cell_type": "code",
   "execution_count": 8,
   "id": "e7509823",
   "metadata": {},
   "outputs": [
    {
     "name": "stdout",
     "output_type": "stream",
     "text": [
      "motiur\n"
     ]
    }
   ],
   "source": [
    "print(stu_name[3])"
   ]
  },
  {
   "cell_type": "code",
   "execution_count": 11,
   "id": "5a7a8878",
   "metadata": {},
   "outputs": [
    {
     "name": "stdout",
     "output_type": "stream",
     "text": [
      "motiur 4th element\n",
      "motiur is the same motiur\n"
     ]
    }
   ],
   "source": [
    "print(stu_name[3], \"4th element\")\n",
    "print(stu_name[-1], \"is the same\", stu_name[3])"
   ]
  },
  {
   "cell_type": "code",
   "execution_count": 13,
   "id": "01bcfd0f",
   "metadata": {},
   "outputs": [
    {
     "name": "stdout",
     "output_type": "stream",
     "text": [
      "Total Marks=  344\n"
     ]
    }
   ],
   "source": [
    "mark = [100, 34, 80, 75, 55]\n",
    "sum_mark = mark[0]+mark[1]+mark[2]+mark[3]+mark[4]\n",
    "print(\"Total Marks= \", sum_mark)"
   ]
  },
  {
   "cell_type": "code",
   "execution_count": 14,
   "id": "c2196fde",
   "metadata": {},
   "outputs": [
    {
     "name": "stdout",
     "output_type": "stream",
     "text": [
      "['Kabir', 'jamal', 'habib', 'motiur']\n"
     ]
    }
   ],
   "source": [
    "# Insert a new value for an index\n",
    "stu_name =['Rabbi', 'jamal', 'habib','motiur']\n",
    "stu_name[0] = 'Kabir'\n",
    "print(stu_name)"
   ]
  },
  {
   "cell_type": "code",
   "execution_count": 15,
   "id": "cb32ddf0",
   "metadata": {},
   "outputs": [
    {
     "name": "stdout",
     "output_type": "stream",
     "text": [
      "['Kabir', 'jamal', 'habib Chy', 'motiur']\n"
     ]
    }
   ],
   "source": [
    "stu_name[2] = stu_name[2] + ' Chy'\n",
    "print(stu_name)"
   ]
  },
  {
   "cell_type": "code",
   "execution_count": 16,
   "id": "cc2517ae",
   "metadata": {},
   "outputs": [
    {
     "name": "stdout",
     "output_type": "stream",
     "text": [
      "['Kabir', 'jamal', 'habib Chy', ' Motiur Rahman']\n"
     ]
    }
   ],
   "source": [
    "stu_name[3] =  ' Motiur Rahman'\n",
    "print(stu_name)"
   ]
  },
  {
   "cell_type": "code",
   "execution_count": 17,
   "id": "9b63826c",
   "metadata": {},
   "outputs": [
    {
     "name": "stdout",
     "output_type": "stream",
     "text": [
      "['Kabir', 2, 'habib Chy', ' Motiur Rahman']\n"
     ]
    }
   ],
   "source": [
    "stu_name[1] =  2\n",
    "print(stu_name)"
   ]
  },
  {
   "cell_type": "markdown",
   "id": "2e8a7220",
   "metadata": {},
   "source": [
    "# Appending to a List\n",
    ".append() method adds an item to the end of a list\n"
   ]
  },
  {
   "cell_type": "code",
   "execution_count": 18,
   "id": "59327ea1",
   "metadata": {},
   "outputs": [
    {
     "name": "stdout",
     "output_type": "stream",
     "text": [
      "[1, 1, 2]\n"
     ]
    }
   ],
   "source": [
    "test = [1,1,2]\n",
    "print(test)"
   ]
  },
  {
   "cell_type": "code",
   "execution_count": 19,
   "id": "0aa427f3",
   "metadata": {},
   "outputs": [
    {
     "name": "stdout",
     "output_type": "stream",
     "text": [
      "[1, 1, 2, 4]\n"
     ]
    }
   ],
   "source": [
    "test.append(4)\n",
    "print(test)"
   ]
  },
  {
   "cell_type": "code",
   "execution_count": 20,
   "id": "4552bd36",
   "metadata": {},
   "outputs": [
    {
     "name": "stdout",
     "output_type": "stream",
     "text": [
      "[1, 1, 2, 4, 8]\n"
     ]
    }
   ],
   "source": [
    "test.append(8)\n",
    "print(test)"
   ]
  },
  {
   "cell_type": "code",
   "execution_count": 21,
   "id": "30efa67f",
   "metadata": {},
   "outputs": [
    {
     "name": "stdout",
     "output_type": "stream",
     "text": [
      "[1, 'Habib', 4.5]\n"
     ]
    }
   ],
   "source": [
    "mix_type =[1,'Habib']\n",
    "mix_type.append(4.5)\n",
    "print(mix_type)"
   ]
  },
  {
   "cell_type": "markdown",
   "id": "2657c65c",
   "metadata": {},
   "source": [
    "# Insert Items into a list\n",
    "use  .insert() te define an index to insert an item\n",
    "Inserts, doesn't overwrite\n",
    "Increases index by 1, at and above the insertion point\n",
    "can use to append a new index to the end of the list\n"
   ]
  },
  {
   "cell_type": "code",
   "execution_count": 3,
   "id": "61bec837",
   "metadata": {},
   "outputs": [
    {
     "name": "stdout",
     "output_type": "stream",
     "text": [
      "Teacher list:  ['Nur Alam', 'Basar', 'satyen']\n",
      "Index 1 is Basar \n",
      " Index 2 is satyen\n"
     ]
    }
   ],
   "source": [
    "tecr_list = ['Nur Alam', 'Basar', 'satyen']\n",
    "print(\"Teacher list: \", tecr_list)\n",
    "print(\"Index 1 is\", tecr_list[1], \"\\n Index 2 is\", tecr_list[2])"
   ]
  },
  {
   "cell_type": "code",
   "execution_count": 6,
   "id": "dac52677",
   "metadata": {},
   "outputs": [
    {
     "name": "stdout",
     "output_type": "stream",
     "text": [
      "New Teacher:  ['Rabbi', 'Rabbi', 'Nur Alam', 'Rabbi', 'Basar', 'satyen']\n",
      "Index 0 is Rabbi \n",
      "Index 1 is Rabbi \n",
      "Index 2 is Nur Alam\n"
     ]
    }
   ],
   "source": [
    "tecr_list.insert(3,'Rabbi')\n",
    "print(\"New Teacher: \", tecr_list)\n",
    "print(\"Index 0 is\", tecr_list[0], \"\\nIndex 1 is\",tecr_list[1], \"\\nIndex 2 is\", tecr_list[2] )"
   ]
  },
  {
   "cell_type": "code",
   "execution_count": 7,
   "id": "bf1e0b54",
   "metadata": {},
   "outputs": [
    {
     "name": "stdout",
     "output_type": "stream",
     "text": [
      "New Teacher:  ['Rabbi', 'Rabbi', 'Nur Alam', 'Rabbi', 'Basar', 'satyen', 'Mahabub']\n",
      "Index 0 is Rabbi \n",
      "Index 1 is Rabbi \n",
      "Index 2 is Nur Alam\n"
     ]
    }
   ],
   "source": [
    "tecr_list.insert(10,'Mahabub')\n",
    "print(\"New Teacher: \", tecr_list)\n",
    "print(\"Index 0 is\", tecr_list[0], \"\\nIndex 1 is\",tecr_list[1], \"\\nIndex 2 is\", tecr_list[2] )"
   ]
  },
  {
   "cell_type": "markdown",
   "id": "1ff886c7",
   "metadata": {},
   "source": [
    "# Delete a specific list Index\n",
    "del statement\n",
    "del tecr_list[1]"
   ]
  },
  {
   "cell_type": "code",
   "execution_count": 8,
   "id": "95f86a10",
   "metadata": {},
   "outputs": [
    {
     "name": "stdout",
     "output_type": "stream",
     "text": [
      "['Rabbi', 'Nur Alam', 'Rabbi', 'Basar', 'satyen', 'Mahabub']\n"
     ]
    }
   ],
   "source": [
    "del tecr_list[1]\n",
    "print(tecr_list)"
   ]
  },
  {
   "cell_type": "code",
   "execution_count": 9,
   "id": "8e42c862",
   "metadata": {},
   "outputs": [
    {
     "name": "stdout",
     "output_type": "stream",
     "text": [
      "Before delete: ['Rabbi', 'Nur Alam', 'Rabbi', 'Basar', 'satyen', 'Mahabub']\n",
      "['Rabbi', 'Nur Alam', 'Basar', 'satyen', 'Mahabub']\n"
     ]
    }
   ],
   "source": [
    "print(\"Before delete:\", tecr_list)\n",
    "del tecr_list[-4] # Delete backword number 4\n",
    "print(tecr_list)"
   ]
  },
  {
   "cell_type": "code",
   "execution_count": 10,
   "id": "2a2cddb7",
   "metadata": {},
   "outputs": [
    {
     "name": "stdout",
     "output_type": "stream",
     "text": [
      "Before:  [20, 'Jabin']\n",
      "After 1st change: [20, 'Jabin', 21]\n",
      "After 2nd change: [20, 'Jabin', 21, 'Sumaiya']\n",
      "After Delete 3rd change: ['Jabin', 21, 'Sumaiya']\n"
     ]
    }
   ],
   "source": [
    "# Practice\n",
    "mix_type = [20, \"Jabin\"]\n",
    "print(\"Before: \", mix_type)\n",
    "mix_type.append(21)\n",
    "print(\"After 1st change:\", mix_type)\n",
    "mix_type.append(\"Sumaiya\")\n",
    "print(\"After 2nd change:\", mix_type)\n",
    "del mix_type[0]\n",
    "print(\"After Delete 3rd change:\", mix_type)\n"
   ]
  },
  {
   "cell_type": "markdown",
   "id": "ff76e740",
   "metadata": {},
   "source": [
    "# .pop() gets and deletes item in list\n",
    ".pop() method default is last item in a list\n",
    "last_item = tecr_list.pop()\n",
    "first_item = tecr_list.pop(0\n",
    "                          )"
   ]
  },
  {
   "cell_type": "code",
   "execution_count": 11,
   "id": "3ae7827b",
   "metadata": {},
   "outputs": [
    {
     "name": "stdout",
     "output_type": "stream",
     "text": [
      "['Rabbi', 'Nur Alam', 'Basar', 'satyen', 'Mahabub']\n"
     ]
    }
   ],
   "source": [
    " print(tecr_list)"
   ]
  },
  {
   "cell_type": "code",
   "execution_count": 12,
   "id": "97995ac4",
   "metadata": {},
   "outputs": [],
   "source": [
    "last_item = tecr_list.pop() # Delete last Item\n",
    "first_item = tecr_list.pop(0) # Delete 1st Item"
   ]
  },
  {
   "cell_type": "code",
   "execution_count": 13,
   "id": "6227cd9d",
   "metadata": {},
   "outputs": [
    {
     "name": "stdout",
     "output_type": "stream",
     "text": [
      "Mahabub\n",
      "Rabbi\n"
     ]
    }
   ],
   "source": [
    "print(last_item) \n",
    "print(first_item)"
   ]
  },
  {
   "cell_type": "code",
   "execution_count": 14,
   "id": "c857581a",
   "metadata": {},
   "outputs": [
    {
     "name": "stdout",
     "output_type": "stream",
     "text": [
      "['Nur Alam', 'Basar', 'satyen']\n"
     ]
    }
   ],
   "source": [
    "print(tecr_list)"
   ]
  },
  {
   "cell_type": "code",
   "execution_count": 15,
   "id": "58a08c1a",
   "metadata": {},
   "outputs": [
    {
     "name": "stdout",
     "output_type": "stream",
     "text": [
      "1st index (Basar): Basar\n"
     ]
    }
   ],
   "source": [
    "print(\"1st index (Basar):\", tecr_list.pop(1))"
   ]
  },
  {
   "cell_type": "code",
   "execution_count": 16,
   "id": "df73c464",
   "metadata": {},
   "outputs": [
    {
     "name": "stdout",
     "output_type": "stream",
     "text": [
      "['Nur Alam', 'satyen']\n"
     ]
    }
   ],
   "source": [
    "print(tecr_list)"
   ]
  },
  {
   "cell_type": "code",
   "execution_count": 17,
   "id": "181e62c7",
   "metadata": {},
   "outputs": [
    {
     "name": "stdout",
     "output_type": "stream",
     "text": [
      "Before:  [10, 11, 12, 13, 17, 201, 301, 202, 333]\n",
      "[10, 11, 12, 13, 201, 301, 202, 333]\n"
     ]
    }
   ],
   "source": [
    "# practice\n",
    "num_list = [10, 11, 12, 13, 17, 201, 301, 202, 333]\n",
    "print(\"Before: \", num_list)\n",
    "num_list.pop(4)\n",
    "print(num_list)"
   ]
  },
  {
   "cell_type": "code",
   "execution_count": 21,
   "id": "b42c36ed",
   "metadata": {},
   "outputs": [
    {
     "name": "stdout",
     "output_type": "stream",
     "text": [
      "Before: [10, 11, 12, 13]\n",
      "After:  [10, 11]\n",
      "Add last two popped values: 13 + 12 = 25\n"
     ]
    }
   ],
   "source": [
    "# Example:  set a variable to a poped value\n",
    "print(\"Before:\" ,num_list )\n",
    "num_1 = num_list.pop() # last item 333\n",
    "num_2 = num_list.pop() # next last item 202\n",
    "print(\"After: \", num_list)\n",
    "print(\"Add last two popped values:\", num_1, \"+\" , num_2, \"=\", num_1 + num_2 )"
   ]
  },
  {
   "cell_type": "code",
   "execution_count": null,
   "id": "27c3c1dd",
   "metadata": {},
   "outputs": [],
   "source": [
    "# Practive: \n",
    ".pop() \n",
    "# [] pop() and print the 1st and last items from item from the test Item\n",
    "test = ['Rabbi', 'Nur Alam', 'Basar', 'satyen', 'Mahabub', 'Kader', 'Joynal']\n",
    "# [] print the remaining list\n"
   ]
  },
  {
   "cell_type": "code",
   "execution_count": 22,
   "id": "e26f6801",
   "metadata": {},
   "outputs": [
    {
     "name": "stdout",
     "output_type": "stream",
     "text": [
      "Before:  ['Rabbi', 'Nur Alam', 'Basar', 'satyen', 'Mahabub', 'Kader', 'Joynal']\n",
      "1st delete:  Rabbi\n",
      "Last delete:  Joynal\n",
      "After two pop:  ['Nur Alam', 'Basar', 'satyen', 'Mahabub', 'Kader']\n"
     ]
    }
   ],
   "source": [
    "test = ['Rabbi', 'Nur Alam', 'Basar', 'satyen', 'Mahabub', 'Kader', 'Joynal']\n",
    "print(\"Before: \", test)\n",
    "print(\"1st delete: \", test.pop(0))\n",
    "print(\"Last delete: \", test.pop())\n",
    "print(\"After two pop: \", test)"
   ]
  },
  {
   "cell_type": "markdown",
   "id": "eb06287f",
   "metadata": {},
   "source": [
    "# Empty l;ist is False\n",
    "An Empty list is False\n",
    "in a conditional an empty list will evaluate False\n",
    "This allows creating a while loop that runs untill a list is empty\n",
    "while color_types:\n"
   ]
  },
  {
   "cell_type": "code",
   "execution_count": 24,
   "id": "7164cc7b",
   "metadata": {},
   "outputs": [
    {
     "name": "stdout",
     "output_type": "stream",
     "text": [
      "['green', 'yellow', 'red'] \n",
      "\n",
      "red popped, list is now= ['green', 'yellow']\n",
      "yellow popped, list is now= ['green']\n",
      "green popped, list is now= []\n"
     ]
    }
   ],
   "source": [
    "color_types = [\"green\", \"yellow\", \"red\"]\n",
    "print(color_types,\"\\n\")\n",
    "while color_types:\n",
    "    print(color_types.pop(), \"popped, list is now=\", color_types)"
   ]
  },
  {
   "cell_type": "code",
   "execution_count": 25,
   "id": "a317bb06",
   "metadata": {},
   "outputs": [
    {
     "name": "stdout",
     "output_type": "stream",
     "text": [
      "red\n",
      "yellow\n",
      "green\n"
     ]
    }
   ],
   "source": [
    "color_types = [\"green\", \"yellow\", \"red\"]\n",
    "while color_types:\n",
    "    print(color_types.pop())"
   ]
  },
  {
   "cell_type": "markdown",
   "id": "adc2fc83",
   "metadata": {},
   "source": [
    "# Delete a specific object from a list with .remove()\n",
    "Delete a specific object from a list with .remove()\n",
    ".remove(object) removes the 1st item that matches\n",
    "\n",
    "color_types.remove(\"green\")\n",
    "ValuesError occurs if the object is not abailable to be removed\n"
   ]
  },
  {
   "cell_type": "code",
   "execution_count": 26,
   "id": "b1d61389",
   "metadata": {},
   "outputs": [
    {
     "name": "stdout",
     "output_type": "stream",
     "text": [
      "['green', 'blue', 'black']\n"
     ]
    }
   ],
   "source": [
    "# Example\n",
    "colors = [\"green\", \"blue\", \"black\", \"red\"]\n",
    "colors.remove(\"red\")\n",
    "print(colors)"
   ]
  },
  {
   "cell_type": "code",
   "execution_count": 27,
   "id": "2fdf52e7",
   "metadata": {},
   "outputs": [
    {
     "name": "stdout",
     "output_type": "stream",
     "text": [
      "['green', 'blue', 'black', 'red', 'yellow', 'blue']\n",
      "['green', 'black', 'red', 'yellow', 'blue']\n"
     ]
    }
   ],
   "source": [
    "colors = [\"green\", \"blue\", \"black\", \"red\", \"yellow\", \"blue\"]\n",
    "print(colors)\n",
    "colors.remove(\"blue\") # delete 1st matches\n",
    "print(colors)\n"
   ]
  },
  {
   "cell_type": "code",
   "execution_count": 30,
   "id": "a4f22d76",
   "metadata": {},
   "outputs": [
    {
     "name": "stdout",
     "output_type": "stream",
     "text": [
      "['red', 'green', 'blue', 'black', 'red', 'yellow', 'blue']\n",
      "['green', 'blue', 'black', 'red', 'yellow', 'blue']\n",
      "['green', 'blue', 'black', 'yellow', 'blue']\n"
     ]
    }
   ],
   "source": [
    "colors = [\"red\", \"green\", \"blue\", \"black\", \"red\", \"yellow\", \"blue\"]\n",
    "\n",
    "print(colors)\n",
    "while \"red\" in colors:\n",
    "          colors.remove(\"red\")\n",
    "          print(colors)"
   ]
  },
  {
   "cell_type": "code",
   "execution_count": 32,
   "id": "b2fe6f68",
   "metadata": {},
   "outputs": [
    {
     "name": "stdout",
     "output_type": "stream",
     "text": [
      "['green', 'blue', 'black', 'red', 'yellow', 'blue']\n",
      "['green', 'blue', 'black', 'yellow', 'blue']\n"
     ]
    }
   ],
   "source": [
    "colors = [\"green\", \"blue\", \"black\", \"red\", \"yellow\", \"blue\"]\n",
    "\n",
    "print(colors)\n",
    "if \"red\" in colors:\n",
    "          colors.remove(\"red\")\n",
    "else:\n",
    "     print(\"Not red found\")\n",
    "print(colors)"
   ]
  },
  {
   "cell_type": "code",
   "execution_count": 33,
   "id": "b0955cd9",
   "metadata": {},
   "outputs": [
    {
     "name": "stdout",
     "output_type": "stream",
     "text": [
      "['green', 'blue', 'black', 'red', 'yellow', 'blue']\n",
      "Not red found\n",
      "['green', 'blue', 'black', 'red', 'yellow', 'blue']\n"
     ]
    }
   ],
   "source": [
    "colors = [\"green\", \"blue\", \"black\", \"red\", \"yellow\", \"blue\"]\n",
    "\n",
    "print(colors)\n",
    "if \"pink\" in colors:\n",
    "          colors.remove(\"pink\")\n",
    "else:\n",
    "     print(\"Not red found\")\n",
    "print(colors)"
   ]
  },
  {
   "cell_type": "markdown",
   "id": "d0eddf4f",
   "metadata": {},
   "source": [
    "# .format()\n",
    "Which allows multiplw substitutions and value formatting.\n"
   ]
  },
  {
   "cell_type": "code",
   "execution_count": 35,
   "id": "fdf13bd3",
   "metadata": {},
   "outputs": [
    {
     "name": "stdout",
     "output_type": "stream",
     "text": [
      "Abdullah is in class 6\n"
     ]
    }
   ],
   "source": [
    "grade = 6\n",
    "stuName =\"Abdullah\"\n",
    "print(stuName,\"is in class\", grade)"
   ]
  },
  {
   "cell_type": "code",
   "execution_count": 36,
   "id": "1d200ef7",
   "metadata": {},
   "outputs": [
    {
     "ename": "TypeError",
     "evalue": "can only concatenate str (not \"int\") to str",
     "output_type": "error",
     "traceback": [
      "\u001b[1;31m---------------------------------------------------------------------------\u001b[0m",
      "\u001b[1;31mTypeError\u001b[0m                                 Traceback (most recent call last)",
      "\u001b[1;32m<ipython-input-36-be0d30578542>\u001b[0m in \u001b[0;36m<module>\u001b[1;34m\u001b[0m\n\u001b[0;32m      1\u001b[0m \u001b[0mgrade\u001b[0m \u001b[1;33m=\u001b[0m \u001b[1;36m6\u001b[0m\u001b[1;33m\u001b[0m\u001b[1;33m\u001b[0m\u001b[0m\n\u001b[0;32m      2\u001b[0m \u001b[0mstuName\u001b[0m \u001b[1;33m=\u001b[0m\u001b[1;34m\"Abdullah\"\u001b[0m\u001b[1;33m\u001b[0m\u001b[1;33m\u001b[0m\u001b[0m\n\u001b[1;32m----> 3\u001b[1;33m \u001b[0mprint\u001b[0m\u001b[1;33m(\u001b[0m\u001b[0mstuName\u001b[0m \u001b[1;33m+\u001b[0m \u001b[1;34m\"is in class\"\u001b[0m \u001b[1;33m+\u001b[0m \u001b[0mgrade\u001b[0m\u001b[1;33m)\u001b[0m\u001b[1;33m\u001b[0m\u001b[1;33m\u001b[0m\u001b[0m\n\u001b[0m",
      "\u001b[1;31mTypeError\u001b[0m: can only concatenate str (not \"int\") to str"
     ]
    }
   ],
   "source": [
    "grade = 6\n",
    "stuName =\"Abdullah\"\n",
    "print(stuName + \"is in class\" + grade)"
   ]
  },
  {
   "cell_type": "code",
   "execution_count": 39,
   "id": "00c065a4",
   "metadata": {},
   "outputs": [
    {
     "name": "stdout",
     "output_type": "stream",
     "text": [
      "Abdullah is in class 6\n"
     ]
    }
   ],
   "source": [
    "grade = 6\n",
    "stuName =\"Abdullah\"\n",
    "print(stuName + \" is in class \" + str(grade))"
   ]
  },
  {
   "cell_type": "code",
   "execution_count": 40,
   "id": "b30c6e1b",
   "metadata": {},
   "outputs": [
    {
     "name": "stdout",
     "output_type": "stream",
     "text": [
      "Abdullah is in class 6\n",
      "Abdullah is in class 6 \n"
     ]
    }
   ],
   "source": [
    "grade = 6\n",
    "stuName =\"Abdullah\"\n",
    "print(stuName + \" is in class \" + str(grade))\n",
    "print('{} is in class {} '.format(stuName,grade)) # Use of format"
   ]
  },
  {
   "cell_type": "code",
   "execution_count": 42,
   "id": "15cc4392",
   "metadata": {},
   "outputs": [
    {
     "name": "stdout",
     "output_type": "stream",
     "text": [
      "Nasir eats 2, 1, and 3, servings of fruit daily.\n"
     ]
    }
   ],
   "source": [
    "custname =\"Nasir\"\n",
    "mango = 1\n",
    "orange =2\n",
    "lichi = 3\n",
    "print(custname, 'eats {}, {}, and {}, servings of fruit daily.'.format(orange, mango,  lichi))"
   ]
  },
  {
   "cell_type": "code",
   "execution_count": 43,
   "id": "964fcf8e",
   "metadata": {},
   "outputs": [],
   "source": [
    "# That all\n"
   ]
  },
  {
   "cell_type": "code",
   "execution_count": 2,
   "id": "c18baa20",
   "metadata": {},
   "outputs": [
    {
     "name": "stdout",
     "output_type": "stream",
     "text": [
      "['banana', 'lemon', 'apple', 'orange']\n",
      "['banana', 'lemon', 'fig', 'orange']\n"
     ]
    }
   ],
   "source": [
    "# change item\n",
    "fruits = [\"banana\", \"lemon\", \"apple\", \"orange\"]\n",
    "print(fruits)\n",
    "fruits[2]= \"fig\"\n",
    "print(fruits)"
   ]
  },
  {
   "cell_type": "code",
   "execution_count": null,
   "id": "16439d14",
   "metadata": {},
   "outputs": [],
   "source": []
  }
 ],
 "metadata": {
  "kernelspec": {
   "display_name": "Python 3",
   "language": "python",
   "name": "python3"
  },
  "language_info": {
   "codemirror_mode": {
    "name": "ipython",
    "version": 3
   },
   "file_extension": ".py",
   "mimetype": "text/x-python",
   "name": "python",
   "nbconvert_exporter": "python",
   "pygments_lexer": "ipython3",
   "version": "3.8.8"
  }
 },
 "nbformat": 4,
 "nbformat_minor": 5
}
