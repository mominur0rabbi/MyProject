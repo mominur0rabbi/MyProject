{
 "cells": [
  {
   "cell_type": "code",
   "execution_count": 1,
   "id": "65a11ad0",
   "metadata": {},
   "outputs": [],
   "source": [
    "import pandas as pd\n",
    "import os"
   ]
  },
  {
   "cell_type": "code",
   "execution_count": 16,
   "id": "e4ec5bba",
   "metadata": {},
   "outputs": [],
   "source": [
    "files = [file for file in os.listdir(\".\\SecondTermXI\")]\n",
    "all_ban = pd.DataFrame()\n",
    "for file in files:\n",
    "    df = pd.read_csv(\"./SecondTermXI/\" + file)\n",
    "    all_ban = pd.concat([all_ban, df])\n",
    "all_ban.to_csv(\"Bangla.csv\", index= False)"
   ]
  },
  {
   "cell_type": "code",
   "execution_count": 18,
   "id": "2cd08730",
   "metadata": {},
   "outputs": [
    {
     "name": "stdout",
     "output_type": "stream",
     "text": [
      "          Name  Percent  Points Earned\n",
      "0    JO001KJDS       60           12.0\n",
      "1    JO003KDJF       95           19.0\n",
      "2    JO007KDJD       95           19.0\n",
      "3    JO009HEGR       85           17.0\n",
      "4    JO013JSHE       95           19.0\n",
      "..         ...      ...            ...\n",
      "363  UR397ERIA       80           16.0\n",
      "364  UR398ADSF       65           13.0\n",
      "365  UR402IERU       35            7.0\n",
      "366  UR404JKDE       85           17.0\n",
      "367  UR405HGTU       85           17.0\n",
      "\n",
      "[368 rows x 3 columns]\n"
     ]
    }
   ],
   "source": [
    "df = pd.read_csv(\"Bangla.csv\")\n",
    "print(df[['Name', 'Percent', 'Points Earned']])"
   ]
  },
  {
   "cell_type": "code",
   "execution_count": 20,
   "id": "cdc1abc3",
   "metadata": {},
   "outputs": [
    {
     "ename": "SyntaxError",
     "evalue": "invalid syntax (<ipython-input-20-e81fa1f61538>, line 2)",
     "output_type": "error",
     "traceback": [
      "\u001b[1;36m  File \u001b[1;32m\"<ipython-input-20-e81fa1f61538>\"\u001b[1;36m, line \u001b[1;32m2\u001b[0m\n\u001b[1;33m    df.head()\u001b[0m\n\u001b[1;37m    ^\u001b[0m\n\u001b[1;31mSyntaxError\u001b[0m\u001b[1;31m:\u001b[0m invalid syntax\n"
     ]
    }
   ],
   "source": [
    "df = df.drop[df[cols[5:25]]\n",
    "df.head()"
   ]
  },
  {
   "cell_type": "code",
   "execution_count": null,
   "id": "b41d5315",
   "metadata": {},
   "outputs": [],
   "source": []
  }
 ],
 "metadata": {
  "kernelspec": {
   "display_name": "Python 3",
   "language": "python",
   "name": "python3"
  },
  "language_info": {
   "codemirror_mode": {
    "name": "ipython",
    "version": 3
   },
   "file_extension": ".py",
   "mimetype": "text/x-python",
   "name": "python",
   "nbconvert_exporter": "python",
   "pygments_lexer": "ipython3",
   "version": "3.8.8"
  }
 },
 "nbformat": 4,
 "nbformat_minor": 5
}
