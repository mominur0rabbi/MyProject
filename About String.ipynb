{
 "cells": [
  {
   "cell_type": "code",
   "execution_count": 1,
   "id": "0a62e234",
   "metadata": {},
   "outputs": [],
   "source": [
    "import pandas as pd"
   ]
  },
  {
   "cell_type": "markdown",
   "id": "585d63d3",
   "metadata": {},
   "source": [
    "# All About String index\n",
    "myName = \"Mominur\"\n",
    "print(myName)"
   ]
  },
  {
   "cell_type": "code",
   "execution_count": 9,
   "id": "8a710a8d",
   "metadata": {},
   "outputs": [
    {
     "name": "stdout",
     "output_type": "stream",
     "text": [
      "M 1st character is 0\n",
      "o\n",
      "m\n",
      "i\n",
      "n\n",
      "u\n",
      "r\n"
     ]
    }
   ],
   "source": [
    "print(myName[0],\"1st character is 0\")\n",
    "print(myName[1])\n",
    "print(myName[2])\n",
    "print(myName[3])\n",
    "print(myName[4])\n",
    "print(myName[5])\n",
    "print(myName[6])"
   ]
  },
  {
   "cell_type": "code",
   "execution_count": 12,
   "id": "09733e9d",
   "metadata": {},
   "outputs": [
    {
     "name": "stdout",
     "output_type": "stream",
     "text": [
      "good Job! Name starts with j: Jabin\n"
     ]
    }
   ],
   "source": [
    "stuName =\"Jabin\"\n",
    "if stuName[0].lower()==\"j\":\n",
    "    print('good Job! Name starts with j:', stuName)\n",
    "elif stuName[0].lower()==\"t\":\n",
    "    print('good Job! Name starts with t:', stuName)\n",
    "else: \n",
    "    print('Not a match, please try angain:', stuName)\n"
   ]
  },
  {
   "cell_type": "code",
   "execution_count": 14,
   "id": "8791f44b",
   "metadata": {},
   "outputs": [
    {
     "name": "stdout",
     "output_type": "stream",
     "text": [
      "Not a match, please try angain: Jabin\n"
     ]
    }
   ],
   "source": [
    "stuName =\"Jabin\"\n",
    "if stuName[0]==\"j\":\n",
    "    print('good Job! Name starts with J:', stuName)\n",
    "elif stuName[0] ==\"t\":\n",
    "    print('good Job! Name starts with t:', stuName)\n",
    "else: \n",
    "    print('Not a match, please try angain:', stuName)\n"
   ]
  },
  {
   "cell_type": "code",
   "execution_count": null,
   "id": "b05bd556",
   "metadata": {},
   "outputs": [],
   "source": [
    "#Practice:\n",
    "# [] assign a string 6 or more  letters long to the variable: strit_name\n",
    "# [] print the 2nd, 3rd and 5th characters\n",
    "# [] Create an input variable: team_name - ask the second letter = \"a\", \"e\", \"t\"\n",
    "# Test if team_name 2nd character =\"a\", \"e\", \"t\" and print a message\n",
    "# note: use if, elif and else"
   ]
  },
  {
   "cell_type": "code",
   "execution_count": 16,
   "id": "ee7cb555",
   "metadata": {},
   "outputs": [
    {
     "name": "stdout",
     "output_type": "stream",
     "text": [
      "Balubari\n"
     ]
    }
   ],
   "source": [
    "strit_name =\"Balubari\"\n",
    "print(strit_name)\n"
   ]
  },
  {
   "cell_type": "code",
   "execution_count": 19,
   "id": "c0e705f9",
   "metadata": {},
   "outputs": [
    {
     "name": "stdout",
     "output_type": "stream",
     "text": [
      "a\n",
      "l\n",
      "b\n"
     ]
    }
   ],
   "source": [
    "print(strit_name[1])\n",
    "print(strit_name[2])\n",
    "print(strit_name[4])"
   ]
  },
  {
   "cell_type": "code",
   "execution_count": 21,
   "id": "a5949b92",
   "metadata": {},
   "outputs": [
    {
     "data": {
      "text/plain": [
       "'l'"
      ]
     },
     "execution_count": 21,
     "metadata": {},
     "output_type": "execute_result"
    }
   ],
   "source": [
    "strit_name[2]"
   ]
  },
  {
   "cell_type": "code",
   "execution_count": 22,
   "id": "bbf05c04",
   "metadata": {},
   "outputs": [
    {
     "name": "stdout",
     "output_type": "stream",
     "text": [
      "holyDear\n"
     ]
    }
   ],
   "source": [
    "team_name ='holyDear'\n",
    "print(team_name)"
   ]
  },
  {
   "cell_type": "code",
   "execution_count": 24,
   "id": "2b2eb005",
   "metadata": {},
   "outputs": [
    {
     "name": "stdout",
     "output_type": "stream",
     "text": [
      "Not a match, please try angain: holyDear\n"
     ]
    }
   ],
   "source": [
    "if team_name[1].lower()=='a':\n",
    "    print('good Job! Name starts with a:', team_name)\n",
    "elif stuName[0].lower()==\"e\":\n",
    "    print('good Job! Name starts with e:', team_name)\n",
    "elif stuName[0].lower()==\"t\":\n",
    "    print('good Job! Name starts with t:', team_name)\n",
    "else: \n",
    "    print('Not a match, please try angain:', team_name)"
   ]
  },
  {
   "cell_type": "code",
   "execution_count": 3,
   "id": "828d8be9",
   "metadata": {},
   "outputs": [],
   "source": [
    "# negative index\n",
    "stuName =\"Sumaiya\""
   ]
  },
  {
   "cell_type": "code",
   "execution_count": 7,
   "id": "b37336a2",
   "metadata": {},
   "outputs": [],
   "source": [
    "lschr = stuName[-1]"
   ]
  },
  {
   "cell_type": "code",
   "execution_count": 11,
   "id": "3fad2afd",
   "metadata": {},
   "outputs": [
    {
     "name": "stdout",
     "output_type": "stream",
     "text": [
      "a\n"
     ]
    }
   ],
   "source": [
    "print(lschr)"
   ]
  },
  {
   "cell_type": "code",
   "execution_count": 12,
   "id": "67aeb1d1",
   "metadata": {},
   "outputs": [
    {
     "name": "stdout",
     "output_type": "stream",
     "text": [
      "Sumaiya end with 'a'\n"
     ]
    }
   ],
   "source": [
    "print(stuName,\"end with\",\"'\" + lschr + \"'\")"
   ]
  },
  {
   "cell_type": "code",
   "execution_count": 13,
   "id": "5bbb30b5",
   "metadata": {},
   "outputs": [],
   "source": [
    "sec_chr = stuName[-2]"
   ]
  },
  {
   "cell_type": "code",
   "execution_count": 14,
   "id": "a198ffba",
   "metadata": {},
   "outputs": [
    {
     "name": "stdout",
     "output_type": "stream",
     "text": [
      "Sumaiya 2nd to the Last letter of 'y'\n"
     ]
    }
   ],
   "source": [
    "print(stuName,\"2nd to the Last letter of\",\"'\" + sec_chr + \"'\")"
   ]
  },
  {
   "cell_type": "code",
   "execution_count": 16,
   "id": "d1694e90",
   "metadata": {},
   "outputs": [
    {
     "name": "stdout",
     "output_type": "stream",
     "text": [
      "for student name Sumaiya\n",
      "index 4 =  'i'\n",
      "index -3 =  'i'\n"
     ]
    }
   ],
   "source": [
    "# you can get the same letter counting index + or -\n",
    "print (\"for student name\", stuName)\n",
    "print (\"index 4 = \", \"'\" + stuName[4]+ \"'\" )\n",
    "print (\"index -3 = \", \"'\" + stuName[-3]+ \"'\" )"
   ]
  },
  {
   "cell_type": "code",
   "execution_count": null,
   "id": "2b259f58",
   "metadata": {},
   "outputs": [],
   "source": [
    "# Practice\n",
    "#[] assign a string 6 or more letters long to the variable: student_name\n",
    "# []  print the 3rd last character of student_name\n",
    "# [] create and assign string variable: first_name\n",
    "# [] print the first and last letter of name\n",
    "\n",
    "# fix the Errors\n",
    "book_name =\"SevenSisters\"\n",
    "# print the last letter \n",
    "print(shoe(-1))\n"
   ]
  },
  {
   "cell_type": "code",
   "execution_count": 17,
   "id": "f302033c",
   "metadata": {},
   "outputs": [
    {
     "name": "stdout",
     "output_type": "stream",
     "text": [
      "s\n"
     ]
    }
   ],
   "source": [
    "book_name =\"SevenSisters\"\n",
    "# print the last letter \n",
    "print(book_name[-1])"
   ]
  },
  {
   "cell_type": "code",
   "execution_count": 20,
   "id": "785988e0",
   "metadata": {},
   "outputs": [
    {
     "name": "stdout",
     "output_type": "stream",
     "text": [
      "d\n"
     ]
    }
   ],
   "source": [
    "student_name = \"Abdullah\"\n",
    "thrdChr = student_name[2]\n",
    "print(thrdChr)"
   ]
  },
  {
   "cell_type": "code",
   "execution_count": 21,
   "id": "e7a32aa4",
   "metadata": {},
   "outputs": [
    {
     "name": "stdout",
     "output_type": "stream",
     "text": [
      "h\n"
     ]
    }
   ],
   "source": [
    "lstchr = student_name[-1]\n",
    "print(lstchr)"
   ]
  },
  {
   "cell_type": "markdown",
   "id": "ea0e0cd0",
   "metadata": {},
   "source": [
    "# Accessing Sub-strings\n",
    "Index Slicing[start:stop]\n",
    "String slicing returns a string section by addressing the start and stop indexes\n"
   ]
  },
  {
   "cell_type": "code",
   "execution_count": 2,
   "id": "4ffb5e95",
   "metadata": {},
   "outputs": [
    {
     "data": {
      "text/plain": [
       "'habu'"
      ]
     },
     "execution_count": 2,
     "metadata": {},
     "output_type": "execute_result"
    }
   ],
   "source": [
    "# assign string to student_name\n",
    "student_name = \"Mahabuba\"\n",
    "# addressing the 3rd, 4th, 5th and 6th characters\n",
    "student_name[2:6]\n",
    "# The slice starts at index 2 and ends at index 5"
   ]
  },
  {
   "cell_type": "code",
   "execution_count": 4,
   "id": "6b3c5854",
   "metadata": {},
   "outputs": [
    {
     "name": "stdout",
     "output_type": "stream",
     "text": [
      "slcice student_name[0:2]: Ash\n"
     ]
    }
   ],
   "source": [
    "# assign string to student_name\n",
    "student_name = \"Ashfaque\"\n",
    "# addressing the 1st to 3rd characters using a slice\n",
    "print(\"slcice student_name[0:2]:\", student_name[0:3])"
   ]
  },
  {
   "cell_type": "code",
   "execution_count": 6,
   "id": "6ee4509c",
   "metadata": {},
   "outputs": [
    {
     "name": "stdout",
     "output_type": "stream",
     "text": [
      "index 2, 3, 4 of student_name: jin\n"
     ]
    }
   ],
   "source": [
    "# assign string to student_name\n",
    "student_name = \"Tajinder\"\n",
    "# addressing the 3rd  to 5th characters individually\n",
    "print(\"index 2, 3, 4 of student_name:\", student_name[2] +student_name[3] + student_name[4])"
   ]
  },
  {
   "cell_type": "code",
   "execution_count": 11,
   "id": "497bf206",
   "metadata": {},
   "outputs": [
    {
     "name": "stdout",
     "output_type": "stream",
     "text": [
      "knowledge\n",
      "knowledge is the 3rd char through the 11th char\n",
      "knowledge is the index 2 , \"k\", through index 10, \"e\"\n"
     ]
    }
   ],
   "source": [
    "# example\n",
    "long_word = 'Acknowledgement'\n",
    "print(long_word[2:11])\n",
    "print(long_word[2:11], \"is the 3rd char through the 11th char\")\n",
    "print(long_word[2:11], \"is the index 2 , \\\"\" + long_word[2] + \"\\\",\", \"through index 10, \\\"\" + long_word[10] + \"\\\"\")"
   ]
  },
  {
   "cell_type": "code",
   "execution_count": null,
   "id": "264539e6",
   "metadata": {},
   "outputs": [],
   "source": [
    "# Practice:\n",
    "# [] slice long_word to print \"act\" and to print \"tic\"\n",
    "long_word = \"characteristics\"\n",
    "# [] slice long_word to print \"sequence\"\n",
    "long_word = \"Consequences\"\n"
   ]
  },
  {
   "cell_type": "code",
   "execution_count": 14,
   "id": "42c0d07d",
   "metadata": {},
   "outputs": [
    {
     "name": "stdout",
     "output_type": "stream",
     "text": [
      "cte\n",
      "tic\n"
     ]
    }
   ],
   "source": [
    "long_word = \"characteristics\"\n",
    "print(long_word[5:8]) \n",
    "len(long_word)\n",
    "print(long_word[11:14]) "
   ]
  },
  {
   "cell_type": "code",
   "execution_count": 15,
   "id": "469d18fb",
   "metadata": {},
   "outputs": [
    {
     "data": {
      "text/plain": [
       "12"
      ]
     },
     "execution_count": 15,
     "metadata": {},
     "output_type": "execute_result"
    }
   ],
   "source": [
    "long_word = \"Consequences\"\n",
    "len(long_word)"
   ]
  },
  {
   "cell_type": "code",
   "execution_count": 16,
   "id": "2b6cbd1b",
   "metadata": {},
   "outputs": [
    {
     "name": "stdout",
     "output_type": "stream",
     "text": [
      "sequence\n"
     ]
    }
   ],
   "source": [
    "print(long_word[3:11])"
   ]
  },
  {
   "cell_type": "markdown",
   "id": "b76701d5",
   "metadata": {},
   "source": [
    "# Accessing beginning of sub-strings\n",
    "Index slicing [:stop]\n",
    "String slicing returns a string action from index 0 by addressign only the stop index"
   ]
  },
  {
   "cell_type": "code",
   "execution_count": 18,
   "id": "8621b6e1",
   "metadata": {},
   "outputs": [
    {
     "data": {
      "text/plain": [
       "'Nurul'"
      ]
     },
     "execution_count": 18,
     "metadata": {},
     "output_type": "execute_result"
    }
   ],
   "source": [
    "stu_name =\"Nurullah\"\n",
    "# addressign the 1st to 4th character\n",
    "stu_name[:5]\n",
    "# default start for a slice is index 0 "
   ]
  },
  {
   "cell_type": "code",
   "execution_count": 21,
   "id": "ad180739",
   "metadata": {},
   "outputs": [
    {
     "name": "stdout",
     "output_type": "stream",
     "text": [
      "Conseq\n"
     ]
    }
   ],
   "source": [
    "# Practice \n",
    "# [] print the first half of the long_word\n",
    "long_word = \"Consequences\"\n",
    "print(long_word[:6])"
   ]
  },
  {
   "cell_type": "markdown",
   "id": "e66beb14",
   "metadata": {},
   "source": [
    "# Accessing ending of sub-strings\n",
    "Index slicing [start:]\n",
    "String slicing returns a string section including by addressing only the start index\n"
   ]
  },
  {
   "cell_type": "code",
   "execution_count": 23,
   "id": "66f291f9",
   "metadata": {},
   "outputs": [
    {
     "data": {
      "text/plain": [
       "'gir Alam'"
      ]
     },
     "execution_count": 23,
     "metadata": {},
     "output_type": "execute_result"
    }
   ],
   "source": [
    "stu_name = \"Jahangir Alam\"\n",
    "stu_name[5:]"
   ]
  },
  {
   "cell_type": "code",
   "execution_count": 26,
   "id": "31fb06e6",
   "metadata": {},
   "outputs": [
    {
     "ename": "IndentationError",
     "evalue": "unexpected indent (<ipython-input-26-7d30440cc4f3>, line 3)",
     "output_type": "error",
     "traceback": [
      "\u001b[1;36m  File \u001b[1;32m\"<ipython-input-26-7d30440cc4f3>\"\u001b[1;36m, line \u001b[1;32m3\u001b[0m\n\u001b[1;33m    long_word =\"Consequences\"\u001b[0m\n\u001b[1;37m    ^\u001b[0m\n\u001b[1;31mIndentationError\u001b[0m\u001b[1;31m:\u001b[0m unexpected indent\n"
     ]
    }
   ],
   "source": [
    " # Practice\n",
    "    # [] print the second half of the long_word\n",
    "    long_word =\"Consequences\"\n",
    "    long_word[5:]"
   ]
  },
  {
   "cell_type": "code",
   "execution_count": 29,
   "id": "6a536698",
   "metadata": {},
   "outputs": [
    {
     "data": {
      "text/plain": [
       "'uences'"
      ]
     },
     "execution_count": 29,
     "metadata": {},
     "output_type": "execute_result"
    }
   ],
   "source": [
    "long_word =\"Consequences\"\n",
    "long_word[6:]"
   ]
  },
  {
   "cell_type": "markdown",
   "id": "de9ae707",
   "metadata": {},
   "source": [
    "# Access sub string step backword\n",
    "stepping backwards\n",
    "use[::-1]"
   ]
  },
  {
   "cell_type": "code",
   "execution_count": 33,
   "id": "5a0d8adf",
   "metadata": {},
   "outputs": [
    {
     "name": "stdout",
     "output_type": "stream",
     "text": [
      "scitsiretcarahc\n",
      "scitsiretcarahc\n",
      "sisrtaac\n",
      "tcarahc\n"
     ]
    }
   ],
   "source": [
    "# Read Reverse\n",
    "long_word = \"characteristics\"\n",
    "print(long_word[::-1])\n",
    "# for same as before\n",
    "print(long_word[14::-1])\n",
    "# step 2\n",
    "print(long_word[14::-2])\n",
    "# start 6 to backward\n",
    "print(long_word[6::-1])"
   ]
  },
  {
   "cell_type": "code",
   "execution_count": 34,
   "id": "8f5e0127",
   "metadata": {},
   "outputs": [
    {
     "name": "stdout",
     "output_type": "stream",
     "text": [
      "desserts\n"
     ]
    }
   ],
   "source": [
    "# Practice\n",
    "# reverse \n",
    "long_word = \"stressed\"\n",
    "print(long_word[::-1])"
   ]
  },
  {
   "cell_type": "code",
   "execution_count": 35,
   "id": "283f8932",
   "metadata": {},
   "outputs": [
    {
     "name": "stdout",
     "output_type": "stream",
     "text": [
      "arahc\n"
     ]
    }
   ],
   "source": [
    "# Practice\n",
    "# print first 5 letter reverse \n",
    "long_word = \"characteristics\"\n",
    "print(long_word[4::-1])"
   ]
  },
  {
   "cell_type": "code",
   "execution_count": 36,
   "id": "e17502b1",
   "metadata": {},
   "outputs": [
    {
     "name": "stdout",
     "output_type": "stream",
     "text": [
      "char\n"
     ]
    }
   ],
   "source": [
    "print(long_word[:4])"
   ]
  },
  {
   "cell_type": "code",
   "execution_count": 38,
   "id": "088d63ce",
   "metadata": {},
   "outputs": [
    {
     "name": "stdout",
     "output_type": "stream",
     "text": [
      "rahc\n"
     ]
    }
   ],
   "source": [
    "print(long_word[3::-1])"
   ]
  },
  {
   "cell_type": "code",
   "execution_count": 39,
   "id": "cb48a495",
   "metadata": {},
   "outputs": [
    {
     "ename": "SyntaxError",
     "evalue": "invalid syntax (<ipython-input-39-07c75a4d1679>, line 2)",
     "output_type": "error",
     "traceback": [
      "\u001b[1;36m  File \u001b[1;32m\"<ipython-input-39-07c75a4d1679>\"\u001b[1;36m, line \u001b[1;32m2\u001b[0m\n\u001b[1;33m    print(long_word[:4:-])\u001b[0m\n\u001b[1;37m                        ^\u001b[0m\n\u001b[1;31mSyntaxError\u001b[0m\u001b[1;31m:\u001b[0m invalid syntax\n"
     ]
    }
   ],
   "source": [
    "long_word = \"timeline\"\n",
    "print(long_word[::-])"
   ]
  },
  {
   "cell_type": "markdown",
   "id": "3d5de001",
   "metadata": {},
   "source": [
    "# Iterate a String: 1 character at a time\n",
    "for, in: \n",
    "Python provides powerful sequence iteration features. Below, for letter in word: loops through each letter in word."
   ]
  },
  {
   "cell_type": "code",
   "execution_count": 5,
   "id": "61a6d545",
   "metadata": {},
   "outputs": [
    {
     "name": "stdout",
     "output_type": "stream",
     "text": [
      "P\n",
      "y\n",
      "t\n",
      "h\n",
      "o\n",
      "n\n"
     ]
    }
   ],
   "source": [
    "word = \"Python\"\n",
    "for letter in word:\n",
    "    print(letter)\n",
    "# The variable letter is an arbitary variable name. Any valid variable, nmae can be used."
   ]
  },
  {
   "cell_type": "code",
   "execution_count": 6,
   "id": "a85726e7",
   "metadata": {},
   "outputs": [
    {
     "name": "stdout",
     "output_type": "stream",
     "text": [
      "C\n",
      "h\n",
      "a\n",
      "i\n",
      "r\n"
     ]
    }
   ],
   "source": [
    "word =\"Chair\"\n",
    "for item in word:\n",
    "    print(item)"
   ]
  },
  {
   "cell_type": "code",
   "execution_count": 11,
   "id": "8c366909",
   "metadata": {},
   "outputs": [
    {
     "name": "stdout",
     "output_type": "stream",
     "text": [
      "FatIma to Fatima\n"
     ]
    }
   ],
   "source": [
    "# Exaple: creates a new string(new_name) adding (letter) each loop\n",
    "stu_name = \"FatIma\"\n",
    "new_name =\"\"\n",
    "\n",
    "for letter in stu_name:\n",
    "    if letter.upper() == \"I\":\n",
    "        new_name += letter.lower()\n",
    "    else:\n",
    "        new_name += letter\n",
    "print(stu_name, \"to\", new_name)"
   ]
  },
  {
   "cell_type": "code",
   "execution_count": 12,
   "id": "fde8ddbf",
   "metadata": {},
   "outputs": [
    {
     "name": "stdout",
     "output_type": "stream",
     "text": [
      "FatIma to FatIma\n"
     ]
    }
   ],
   "source": [
    "stu_name = \"FatIma\"\n",
    "new_name =\"\"\n",
    "\n",
    "for letter in stu_name:\n",
    "    if letter.upper() == \"p\":\n",
    "        new_name += letter.lower()\n",
    "    else:\n",
    "        new_name += letter\n",
    "print(stu_name, \"to\", new_name)"
   ]
  },
  {
   "cell_type": "code",
   "execution_count": 13,
   "id": "1696461f",
   "metadata": {},
   "outputs": [
    {
     "name": "stdout",
     "output_type": "stream",
     "text": [
      "FatIma to FatIma\n"
     ]
    }
   ],
   "source": [
    "stu_name = \"FatIma\"\n",
    "new_name =\"\"\n",
    "\n",
    "for letter in stu_name:\n",
    "    if letter.lower() == \"i\":\n",
    "        new_name += letter.upper ()\n",
    "    else:\n",
    "        new_name += letter\n",
    "print(stu_name, \"to\", new_name)"
   ]
  },
  {
   "cell_type": "code",
   "execution_count": null,
   "id": "9dc99188",
   "metadata": {},
   "outputs": [],
   "source": [
    "# Practice\n",
    "get user input for first_name\n",
    "create an empty string variable: new_name\n",
    "iterate through letters in first_name\n",
    "add each letter in new_name\n",
    "capitalize if letter is an \"i\" or \"or\" 'o' *(hint: if, elif, else)\n",
    "print new_name\n",
    "    "
   ]
  },
  {
   "cell_type": "code",
   "execution_count": 18,
   "id": "ddd7d9b0",
   "metadata": {},
   "outputs": [
    {
     "name": "stdout",
     "output_type": "stream",
     "text": [
      "MomiNur to mominur\n"
     ]
    }
   ],
   "source": [
    "fst_name = \"MomiNur\"\n",
    "new_name = \"\"\n",
    "for item in fst_name:\n",
    "    if item.upper() == \"M\":\n",
    "        new_name += item.lower()\n",
    "    elif item.upper() == \"N\":\n",
    "        new_name += item.lower()\n",
    "    else:\n",
    "        new_name += item\n",
    "print(fst_name, \"to\", new_name)\n",
    "        "
   ]
  },
  {
   "cell_type": "markdown",
   "id": "6f1dfdd8",
   "metadata": {},
   "source": [
    "# String Methods: Length, count, find\n",
    "returns a strings length\n",
    "\n"
   ]
  },
  {
   "cell_type": "code",
   "execution_count": 19,
   "id": "30c26789",
   "metadata": {},
   "outputs": [
    {
     "name": "stdout",
     "output_type": "stream",
     "text": [
      "7\n"
     ]
    }
   ],
   "source": [
    "stu_name = \"Mominur\"\n",
    "print(len(stu_name))"
   ]
  },
  {
   "cell_type": "code",
   "execution_count": 20,
   "id": "9cb7e80b",
   "metadata": {},
   "outputs": [
    {
     "name": "stdout",
     "output_type": "stream",
     "text": [
      "14\n"
     ]
    }
   ],
   "source": [
    "work_tip = \"save your code\"\n",
    "print(len(work_tip))"
   ]
  },
  {
   "cell_type": "code",
   "execution_count": 42,
   "id": "bb3b8897",
   "metadata": {},
   "outputs": [
    {
     "name": "stdout",
     "output_type": "stream",
     "text": [
      "The sentences:\"good code is commented code\" has character lenth =  27\n"
     ]
    }
   ],
   "source": [
    "work_tip = \"good code is commented code\"\n",
    "print(\"The sentences:\\\"\"+ work_tip + \"\\\" has character lenth = \", len(work_tip) )"
   ]
  },
  {
   "cell_type": "code",
   "execution_count": 43,
   "id": "4fb3ba7a",
   "metadata": {},
   "outputs": [
    {
     "name": "stdout",
     "output_type": "stream",
     "text": [
      "good code is \n"
     ]
    }
   ],
   "source": [
    "#example: fild the middle index\n",
    "work_tip = \"good code is commented code\"\n",
    "mid_pt = int(len(work_tip)/2)\n",
    "# print 1st half of sentence\n",
    "print(work_tip[:mid_pt])"
   ]
  },
  {
   "cell_type": "code",
   "execution_count": 44,
   "id": "b68ce36a",
   "metadata": {},
   "outputs": [
    {
     "name": "stdout",
     "output_type": "stream",
     "text": [
      "honesty is th\n",
      "e best policy\n"
     ]
    }
   ],
   "source": [
    "work_tip = \"honesty is the best policy\"\n",
    "mid_pt = int(len(work_tip)/2)\n",
    "#print 1st half of senctence\n",
    "print(work_tip[:mid_pt])\n",
    "#print 2nd half of senctence\n",
    "print(work_tip[mid_pt:])"
   ]
  },
  {
   "cell_type": "code",
   "execution_count": 47,
   "id": "8f966c29",
   "metadata": {},
   "outputs": [
    {
     "name": "stdout",
     "output_type": "stream",
     "text": [
      "wear a hat w\n",
      "hen it rains\n"
     ]
    }
   ],
   "source": [
    "# Practice\n",
    "# len()\n",
    "# use len() to find the midpoint of the string\n",
    "# print the halves on separate lines\n",
    "random_tip = \"wear a hat when it rains\"\n",
    "mid_pt = int(len(random_tip)/2)\n",
    "print(random_tip[:mid_pt])\n",
    "print(random_tip[mid_pt:])"
   ]
  },
  {
   "cell_type": "markdown",
   "id": "23bef8ed",
   "metadata": {},
   "source": [
    "# String Methods : count()\n",
    "count()\n",
    "returns number of times a character or sub-string occur"
   ]
  },
  {
   "cell_type": "code",
   "execution_count": 50,
   "id": "b786a42a",
   "metadata": {},
   "outputs": [
    {
     "name": "stdout",
     "output_type": "stream",
     "text": [
      "leter \"e\" occurrences\n",
      "2\n"
     ]
    }
   ],
   "source": [
    "work_tip = \"save your code\"\n",
    "print('leter \"e\" occurrences')\n",
    "print(work_tip.count(\"e\"))"
   ]
  },
  {
   "cell_type": "code",
   "execution_count": 51,
   "id": "d1da9c11",
   "metadata": {},
   "outputs": [
    {
     "name": "stdout",
     "output_type": "stream",
     "text": [
      "1\n"
     ]
    }
   ],
   "source": [
    "work_tip = \"save your code\"\n",
    "print(work_tip.count(\"save\"))"
   ]
  },
  {
   "cell_type": "code",
   "execution_count": 53,
   "id": "8f9e8088",
   "metadata": {},
   "outputs": [
    {
     "name": "stdout",
     "output_type": "stream",
     "text": [
      "save your code\n",
      "How many w's ? 0\n",
      "How many o's ? 2\n",
      "How many e's ? 2\n",
      "How many y's ? 1\n",
      "How many times word 'code' comes? 1\n"
     ]
    }
   ],
   "source": [
    "work_tip = \"save your code\"\n",
    "print(work_tip)\n",
    "print(\"How many w's ?\", work_tip.count(\"w\"))\n",
    "print(\"How many o's ?\", work_tip.count(\"o\"))\n",
    "print(\"How many e's ?\", work_tip.count(\"e\"))\n",
    "print(\"How many y's ?\", work_tip.count(\"y\"))\n",
    "print(\"How many times word 'code' comes?\", work_tip.count(\"code\"))"
   ]
  },
  {
   "cell_type": "code",
   "execution_count": 58,
   "id": "1b976df4",
   "metadata": {},
   "outputs": [
    {
     "name": "stdout",
     "output_type": "stream",
     "text": [
      "Bangladesh is\n",
      "#a's in first half\n",
      "2\n",
      "\n",
      " my home Land\n",
      "#a's in 2nd half\n",
      "1\n"
     ]
    }
   ],
   "source": [
    "work_tip = \"Bangladesh is my home Land\"\n",
    "print(work_tip[:13])\n",
    "print(\"#a's in first half\")\n",
    "print(work_tip[:13].count(\"a\"))\n",
    "print()\n",
    "print(work_tip[13:])\n",
    "print(\"#a's in 2nd half\")\n",
    "print(work_tip[13:].count(\"a\"))"
   ]
  },
  {
   "cell_type": "code",
   "execution_count": 65,
   "id": "af8931e3",
   "metadata": {},
   "outputs": [
    {
     "name": "stdout",
     "output_type": "stream",
     "text": [
      "total 'a' 4\n",
      "'a' in 1st half:  3\n",
      "'a' in last half:  1\n"
     ]
    }
   ],
   "source": [
    "# practice\n",
    "#count()\n",
    "# for letter: 'e' and 'a' in random_tip\n",
    "# print letter counts\n",
    "random_tip = 'wear a hat when it rains'\n",
    "print(\"total 'a'\",random_tip.count('a'))\n",
    "print(\"'a' in 1st half: \", random_tip[:10].count('a'))\n",
    "print(\"'a' in last half: \", random_tip[10:].count('a'))"
   ]
  },
  {
   "cell_type": "markdown",
   "id": "caf55977",
   "metadata": {},
   "source": [
    "# String Methods: find()\n",
    "returns index of first character or sub-string match\n",
    "returns -1 if no match found"
   ]
  },
  {
   "cell_type": "code",
   "execution_count": 71,
   "id": "417f7d62",
   "metadata": {},
   "outputs": [
    {
     "name": "stdout",
     "output_type": "stream",
     "text": [
      "find the index of the first space\n",
      "7\n",
      "2\n",
      "9\n",
      "3\n"
     ]
    }
   ],
   "source": [
    "read_book =  \"reading is a good habit\"\n",
    "print('find the index of the first space')\n",
    "print(read_book.find(\" \"))\n",
    "print(read_book.find(\"a\"))\n",
    "print(read_book.find(\"s\"))\n",
    "print(read_book.find(\"d\"))"
   ]
  },
  {
   "cell_type": "code",
   "execution_count": 72,
   "id": "aa9fa247",
   "metadata": {},
   "outputs": [
    {
     "name": "stdout",
     "output_type": "stream",
     "text": [
      "13 =starting index for word \"good\"\n"
     ]
    }
   ],
   "source": [
    " reading = read_book.find(\"good\")\n",
    "print(reading, '=starting index for word \"good\"')"
   ]
  },
  {
   "cell_type": "code",
   "execution_count": 76,
   "id": "587fbf63",
   "metadata": {},
   "outputs": [
    {
     "name": "stdout",
     "output_type": "stream",
     "text": [
      "reading is a good habit\n",
      "read_book:  reading is a good habit\n",
      "'i' at index= 4\n",
      "'i' at index= 8\n",
      "'i' at index= 21\n",
      "no more i's\n"
     ]
    }
   ],
   "source": [
    "# Find a character's  index which is several times\n",
    "print(read_book)\n",
    "print(\"read_book: \", read_book)\n",
    "location = read_book.find(\"i\")\n",
    "# keeps looping until location= -1 (no 'i' found)\n",
    "while location >= 0:\n",
    "    print(\"'i' at index=\", location)\n",
    "    # find(\"i\", location + 1) looks for 'i' after index the first 'i' was found \n",
    "    location = read_book.find(\"i\", location + 1)\n",
    "print(\"no more i's\")\n"
   ]
  },
  {
   "cell_type": "code",
   "execution_count": 77,
   "id": "4c87f3ec",
   "metadata": {},
   "outputs": [
    {
     "name": "stdout",
     "output_type": "stream",
     "text": [
      "'a' at index= 2\n",
      "'a' at index= 11\n",
      "'a' at index= 19\n",
      "no more a's\n"
     ]
    }
   ],
   "source": [
    "# Find index of a's \n",
    "location = read_book.find(\"a\")\n",
    "# keeps looping until location= -1 (no 'i' found)\n",
    "while location >= 0:\n",
    "    print(\"'a' at index=\", location)\n",
    "    # find(\"i\", location + 1) looks for 'i' after index the first 'i' was found \n",
    "    location = read_book.find(\"a\", location + 1)\n",
    "print(\"no more a's\")"
   ]
  },
  {
   "cell_type": "code",
   "execution_count": 78,
   "id": "a593d98f",
   "metadata": {},
   "outputs": [
    {
     "name": "stdout",
     "output_type": "stream",
     "text": [
      "'d' at index= 3\n",
      "'d' at index= 16\n",
      "no more d's\n"
     ]
    }
   ],
   "source": [
    "# Find index of d's \n",
    "location = read_book.find(\"d\")\n",
    "# keeps looping until location= -1 (no 'i' found)\n",
    "while location >= 0:\n",
    "    print(\"'d' at index=\", location)\n",
    "    # find(\"i\", location + 1) looks for 'i' after index the first 'i' was found \n",
    "    location = read_book.find(\"d\", location + 1)\n",
    "print(\"no more d's\")"
   ]
  },
  {
   "cell_type": "markdown",
   "id": "13289819",
   "metadata": {},
   "source": [
    "# input function"
   ]
  },
  {
   "cell_type": "code",
   "execution_count": 2,
   "id": "8d6d5e93",
   "metadata": {},
   "outputs": [
    {
     "name": "stdout",
     "output_type": "stream",
     "text": [
      "What is your Name?Mominur Rabbi\n",
      "My name is:Mominur Rabbi\n"
     ]
    }
   ],
   "source": [
    "get_name = input(\"What is your Name? \")\n",
    "print('My name is:'+ get_name)"
   ]
  },
  {
   "cell_type": "code",
   "execution_count": 3,
   "id": "bf3a6895",
   "metadata": {},
   "outputs": [
    {
     "name": "stdout",
     "output_type": "stream",
     "text": [
      "250\n"
     ]
    },
    {
     "data": {
      "text/plain": [
       "''"
      ]
     },
     "execution_count": 3,
     "metadata": {},
     "output_type": "execute_result"
    }
   ],
   "source": [
    "input(5*50)"
   ]
  },
  {
   "cell_type": "code",
   "execution_count": 4,
   "id": "ea8b9be5",
   "metadata": {},
   "outputs": [
    {
     "name": "stdout",
     "output_type": "stream",
     "text": [
      "10\n"
     ]
    },
    {
     "data": {
      "text/plain": [
       "''"
      ]
     },
     "execution_count": 4,
     "metadata": {},
     "output_type": "execute_result"
    }
   ],
   "source": [
    "input(len(\"Bangladesh\"))"
   ]
  },
  {
   "cell_type": "code",
   "execution_count": 6,
   "id": "3609584f",
   "metadata": {},
   "outputs": [
    {
     "name": "stdout",
     "output_type": "stream",
     "text": [
      "12\n"
     ]
    },
    {
     "data": {
      "text/plain": [
       "''"
      ]
     },
     "execution_count": 6,
     "metadata": {},
     "output_type": "execute_result"
    }
   ],
   "source": [
    "input(max([8,12,10]))"
   ]
  },
  {
   "cell_type": "code",
   "execution_count": 7,
   "id": "03fa5640",
   "metadata": {},
   "outputs": [
    {
     "name": "stdout",
     "output_type": "stream",
     "text": [
      "8\n"
     ]
    },
    {
     "data": {
      "text/plain": [
       "''"
      ]
     },
     "execution_count": 7,
     "metadata": {},
     "output_type": "execute_result"
    }
   ],
   "source": [
    "input(min([8,12,10]))"
   ]
  },
  {
   "cell_type": "code",
   "execution_count": 8,
   "id": "50ae00b9",
   "metadata": {},
   "outputs": [
    {
     "name": "stdout",
     "output_type": "stream",
     "text": [
      "Hello Everyone!!, 12345 $$// 'naything' \"Rabbi\"\n"
     ]
    }
   ],
   "source": [
    "# string with cotession\n",
    "string_data = \"Hello Everyone!!, 12345 $$// 'naything' \\\"Rabbi\\\"\"\n",
    "print(string_data)"
   ]
  },
  {
   "cell_type": "code",
   "execution_count": 9,
   "id": "c99ba568",
   "metadata": {},
   "outputs": [
    {
     "name": "stdout",
     "output_type": "stream",
     "text": [
      "95\n"
     ]
    }
   ],
   "source": [
    "x =9\n",
    "y =\"5\"\n",
    "print(str(x)+y) # it is not add, its concanation"
   ]
  },
  {
   "cell_type": "code",
   "execution_count": 11,
   "id": "dbc6d46b",
   "metadata": {},
   "outputs": [
    {
     "name": "stdout",
     "output_type": "stream",
     "text": [
      "False\n",
      "True\n"
     ]
    }
   ],
   "source": [
    "x =\"571hello\"\n",
    "y = \"101710\"\n",
    "# using isnumeric\n",
    "print(x.isnumeric()) # False\n",
    "print(y.isnumeric()) # True\n"
   ]
  },
  {
   "cell_type": "code",
   "execution_count": 12,
   "id": "112b92ef",
   "metadata": {},
   "outputs": [
    {
     "name": "stdout",
     "output_type": "stream",
     "text": [
      "Hellow\n",
      "Pyhton developers!\n"
     ]
    }
   ],
   "source": [
    "#\\n line break\n",
    "print(\"Hellow\\nPyhton developers!\")"
   ]
  },
  {
   "cell_type": "code",
   "execution_count": 13,
   "id": "16514a24",
   "metadata": {},
   "outputs": [
    {
     "name": "stdout",
     "output_type": "stream",
     "text": [
      "multi\n",
      "                line\n",
      "                string\n"
     ]
    }
   ],
   "source": [
    "use_triple =\"\"\"multi\n",
    "                line\n",
    "                string\"\"\"\n",
    "print(use_triple)"
   ]
  },
  {
   "cell_type": "code",
   "execution_count": 14,
   "id": "820db87c",
   "metadata": {},
   "outputs": [
    {
     "name": "stdout",
     "output_type": "stream",
     "text": [
      "multi\n",
      "                line\n",
      "                string\n"
     ]
    }
   ],
   "source": [
    "use_triple ='''multi\n",
    "                line\n",
    "                string'''\n",
    "print(use_triple)"
   ]
  },
  {
   "cell_type": "code",
   "execution_count": 15,
   "id": "c6ba1e26",
   "metadata": {},
   "outputs": [
    {
     "name": "stdout",
     "output_type": "stream",
     "text": [
      "multi\n",
      "\\line\n",
      "string\n"
     ]
    }
   ],
   "source": [
    "use_triple ='''multi\n",
    "\\\\line\n",
    "string'''\n",
    "print(use_triple)"
   ]
  },
  {
   "cell_type": "code",
   "execution_count": 18,
   "id": "5bee5925",
   "metadata": {},
   "outputs": [
    {
     "name": "stdout",
     "output_type": "stream",
     "text": [
      "<class 'int'>\n",
      "<class 'float'>\n",
      "<class 'complex'>\n"
     ]
    }
   ],
   "source": [
    "# numbers data type\n",
    "x = 3\n",
    "y = 5.12\n",
    "z = 5-2.12j # complex number, here j is comples\n",
    "print(type(x))\n",
    "print(type(y))\n",
    "print(type(z))\n"
   ]
  },
  {
   "cell_type": "code",
   "execution_count": 21,
   "id": "2ef1285c",
   "metadata": {},
   "outputs": [
    {
     "name": "stdout",
     "output_type": "stream",
     "text": [
      "0.37351599401452007\n",
      "21\n"
     ]
    }
   ],
   "source": [
    "import random\n",
    "print(random.random())\n",
    "print(random.randint(1, 50))"
   ]
  },
  {
   "cell_type": "code",
   "execution_count": 26,
   "id": "11babe54",
   "metadata": {},
   "outputs": [
    {
     "name": "stdout",
     "output_type": "stream",
     "text": [
      "70\n"
     ]
    }
   ],
   "source": [
    "# Random choice from a list\n",
    "print(random.choice([20, 40, 50, 70, 90]))"
   ]
  },
  {
   "cell_type": "code",
   "execution_count": 28,
   "id": "37fb4c4f",
   "metadata": {},
   "outputs": [
    {
     "name": "stdout",
     "output_type": "stream",
     "text": [
      "[80, 60, 40]\n"
     ]
    }
   ],
   "source": [
    "# random item from a list which mension outside\n",
    "print(random.sample([30,40,50,60,70,80],3))"
   ]
  },
  {
   "cell_type": "code",
   "execution_count": 29,
   "id": "8cacc112",
   "metadata": {},
   "outputs": [
    {
     "name": "stdout",
     "output_type": "stream",
     "text": [
      "[40, 30, 70, 80]\n"
     ]
    }
   ],
   "source": [
    "# random item from a list which mension outside\n",
    "print(random.sample([30,40,50,60,70,80],4))"
   ]
  },
  {
   "cell_type": "code",
   "execution_count": 30,
   "id": "7301043e",
   "metadata": {},
   "outputs": [
    {
     "name": "stdout",
     "output_type": "stream",
     "text": [
      "170\n",
      "30\n",
      "70\n",
      "3.3333333333333335\n",
      "1\n",
      "3\n",
      "1000\n"
     ]
    }
   ],
   "source": [
    "#  operator (Arithmetic \"+, -, *, /, % modulus, // integer division, ** power)\n",
    "print(100+70)\n",
    "print(100-70)\n",
    "print(10*7)\n",
    "print(100/30)\n",
    "print(100%3)\n",
    "print(100//30)\n",
    "print(10**3)\n"
   ]
  },
  {
   "cell_type": "code",
   "execution_count": 31,
   "id": "ff953464",
   "metadata": {},
   "outputs": [
    {
     "name": "stdout",
     "output_type": "stream",
     "text": [
      "True\n",
      "False\n",
      "False\n",
      "True\n",
      "False\n"
     ]
    }
   ],
   "source": [
    "# comparison (equal==, )\n",
    "print(3==3)\n",
    "print(3==4)\n",
    "print(10>11)\n",
    "print(20>=11)\n",
    "print(30<=15)\n"
   ]
  },
  {
   "cell_type": "code",
   "execution_count": 32,
   "id": "6d48193e",
   "metadata": {},
   "outputs": [
    {
     "name": "stdout",
     "output_type": "stream",
     "text": [
      "True\n",
      "False\n",
      "True\n",
      "False\n"
     ]
    }
   ],
   "source": [
    "# logical(and, or, not)\n",
    "print(5 ==5 and 10==10)\n",
    "print(5 ==5 and 10==11)\n",
    "print(5 ==5 or 10==11)\n",
    "print(not True)\n"
   ]
  },
  {
   "cell_type": "code",
   "execution_count": 34,
   "id": "d3932c85",
   "metadata": {},
   "outputs": [
    {
     "name": "stdout",
     "output_type": "stream",
     "text": [
      "35\n",
      "15\n",
      "2.5\n"
     ]
    }
   ],
   "source": [
    "# assignment\n",
    "x = 10+25\n",
    "print(x)\n",
    "y = 10\n",
    "y += 5\n",
    "print(y)\n",
    "a = 5\n",
    "a /=2\n",
    "print(a)\n"
   ]
  },
  {
   "cell_type": "code",
   "execution_count": 36,
   "id": "299c7c94",
   "metadata": {},
   "outputs": [
    {
     "name": "stdout",
     "output_type": "stream",
     "text": [
      "True!\n"
     ]
    }
   ],
   "source": [
    "# conditional\n",
    "name = \"python\"\n",
    "print(\"False!\" if name != \"python\" else \"True!\")"
   ]
  },
  {
   "cell_type": "code",
   "execution_count": null,
   "id": "2b63462f",
   "metadata": {},
   "outputs": [],
   "source": []
  }
 ],
 "metadata": {
  "kernelspec": {
   "display_name": "Python 3",
   "language": "python",
   "name": "python3"
  },
  "language_info": {
   "codemirror_mode": {
    "name": "ipython",
    "version": 3
   },
   "file_extension": ".py",
   "mimetype": "text/x-python",
   "name": "python",
   "nbconvert_exporter": "python",
   "pygments_lexer": "ipython3",
   "version": "3.8.8"
  }
 },
 "nbformat": 4,
 "nbformat_minor": 5
}
