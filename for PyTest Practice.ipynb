{
 "cells": [
  {
   "cell_type": "code",
   "execution_count": 1,
   "id": "25cfc411",
   "metadata": {},
   "outputs": [],
   "source": [
    "import pandas as pd"
   ]
  },
  {
   "cell_type": "code",
   "execution_count": 4,
   "id": "ac888df4",
   "metadata": {},
   "outputs": [
    {
     "name": "stdout",
     "output_type": "stream",
     "text": [
      "What is your age: 54\n",
      "1967\n"
     ]
    }
   ],
   "source": [
    "yourAge = input(\"What is your age: \")\n",
    "birthYear = 2021- int(yourAge)\n",
    "print(birthYear)"
   ]
  },
  {
   "cell_type": "code",
   "execution_count": 6,
   "id": "40291521",
   "metadata": {},
   "outputs": [
    {
     "name": "stdout",
     "output_type": "stream",
     "text": [
      "First: 15\n",
      "Second: 26\n",
      "Result: -11.0\n",
      "-ve number.\n"
     ]
    }
   ],
   "source": [
    "# Math Operation\n",
    "numberA = float(input(\"First: \"))\n",
    "numberB = float(input(\"Second: \"))\n",
    "sub = numberA-numberB\n",
    "print(\"Result: \" + str(sub))\n",
    "\n",
    "if sub<0:\n",
    "    print(\"-ve number.\")\n",
    "else:\n",
    "    print(\"+ve number.\")"
   ]
  },
  {
   "cell_type": "code",
   "execution_count": 7,
   "id": "6c02216c",
   "metadata": {},
   "outputs": [
    {
     "name": "stdout",
     "output_type": "stream",
     "text": [
      "HI YOUR DAUGHTER CANNOT ADMIT DUE TO MONEY.\n"
     ]
    }
   ],
   "source": [
    "# work with string\n",
    "test1 = \"Hi your daughter Cannot admit due to money.\"\n",
    "print(test1.upper())"
   ]
  },
  {
   "cell_type": "code",
   "execution_count": 8,
   "id": "655f75f9",
   "metadata": {},
   "outputs": [
    {
     "name": "stdout",
     "output_type": "stream",
     "text": [
      "hi your daughter cannot admit due to money.\n"
     ]
    }
   ],
   "source": [
    "test1 = \"Hi your daughter Cannot admit due to money.\"\n",
    "print(test1.lower())"
   ]
  },
  {
   "cell_type": "code",
   "execution_count": 9,
   "id": "8d88aca6",
   "metadata": {},
   "outputs": [
    {
     "name": "stdout",
     "output_type": "stream",
     "text": [
      "26\n"
     ]
    }
   ],
   "source": [
    "print(test1.find('m'))"
   ]
  },
  {
   "cell_type": "code",
   "execution_count": 10,
   "id": "998d3979",
   "metadata": {},
   "outputs": [
    {
     "name": "stdout",
     "output_type": "stream",
     "text": [
      "3\n"
     ]
    }
   ],
   "source": [
    "print(test1.find('y'))"
   ]
  },
  {
   "cell_type": "code",
   "execution_count": 11,
   "id": "b494b2dd",
   "metadata": {},
   "outputs": [
    {
     "name": "stdout",
     "output_type": "stream",
     "text": [
      "Hi your daughter Cannot admit due to Dollar.\n"
     ]
    }
   ],
   "source": [
    "print(test1.replace('money', 'Dollar'))"
   ]
  },
  {
   "cell_type": "code",
   "execution_count": 12,
   "id": "cb79e161",
   "metadata": {},
   "outputs": [
    {
     "name": "stdout",
     "output_type": "stream",
     "text": [
      "37\n"
     ]
    }
   ],
   "source": [
    "print(test1.find('money')) # potision of first carecter of letterx =15 \n",
    "\n"
   ]
  },
  {
   "cell_type": "code",
   "execution_count": 15,
   "id": "10d32446",
   "metadata": {},
   "outputs": [
    {
     "name": "stdout",
     "output_type": "stream",
     "text": [
      "3\n",
      "8\n",
      "21\n",
      "36\n"
     ]
    }
   ],
   "source": [
    "x = 6\n",
    "y = 15\n",
    "print(y%x)\n",
    "print(2**3)\n",
    "x = x+y \n",
    "print(x)\n",
    "x += y\n",
    "print(x)"
   ]
  },
  {
   "cell_type": "code",
   "execution_count": 20,
   "id": "bd949bf6",
   "metadata": {},
   "outputs": [
    {
     "name": "stdout",
     "output_type": "stream",
     "text": [
      "You drive too fast\n",
      "Ready\n"
     ]
    }
   ],
   "source": [
    "carSpeed = 110\n",
    "if carSpeed>100:\n",
    "    print(\"You drive too fast\")\n",
    "elif carSpeed<20:\n",
    "    print(\"You drive too slow. This is a highway\")\n",
    "else:\n",
    "    print(\"You drive is good\")\n",
    "print(\"Ready\")"
   ]
  },
  {
   "cell_type": "code",
   "execution_count": 25,
   "id": "aa4a8358",
   "metadata": {},
   "outputs": [
    {
     "name": "stdout",
     "output_type": "stream",
     "text": [
      "What is yoiur degree? Master, Bachelor or PhDMaster\n",
      "How many years of experince do you have?5\n",
      "Your are accepted for the interview\n"
     ]
    }
   ],
   "source": [
    "Practice of nested if\n",
    "# Master degree required\n",
    "# more than 2 years of experience\n",
    "degree = input (\"What is yoiur degree? Master, Bachelor or PhD\")\n",
    "experience = input (\"How many years of experince do you have?\")\n",
    "if degree == \"Master\" or  degree == \"master\" or degree == \"PhD\" or degree == \"phd\" :\n",
    "    if int(experience)>=2:\n",
    "        print(\"Your are accepted for the interview\")\n",
    "    else:\n",
    "        print(\"you dont have enough experiene\")\n",
    "else:\n",
    "    print(\"you dont have required degree\")\n"
   ]
  },
  {
   "cell_type": "code",
   "execution_count": 26,
   "id": "ce5ed265",
   "metadata": {},
   "outputs": [
    {
     "name": "stdout",
     "output_type": "stream",
     "text": [
      "0\n",
      "1\n",
      "2\n",
      "3\n",
      "4\n",
      "5\n"
     ]
    }
   ],
   "source": [
    "# while and for loop\n",
    "i = 0\n",
    "while i<=5:\n",
    "    print(i)\n",
    "    i=i+1"
   ]
  },
  {
   "cell_type": "code",
   "execution_count": 27,
   "id": "97db52ca",
   "metadata": {},
   "outputs": [
    {
     "name": "stdout",
     "output_type": "stream",
     "text": [
      "0\n",
      "0\n",
      "1\n",
      "1\n",
      "2\n",
      "4\n",
      "3\n",
      "9\n",
      "4\n",
      "16\n",
      "5\n",
      "25\n"
     ]
    }
   ],
   "source": [
    "i = 0\n",
    "while i<=5:\n",
    "    print(i)\n",
    "    print(i*i)\n",
    "    i=i+1"
   ]
  },
  {
   "cell_type": "code",
   "execution_count": 29,
   "id": "9814388c",
   "metadata": {},
   "outputs": [
    {
     "name": "stdout",
     "output_type": "stream",
     "text": [
      "67\n",
      "30\n",
      "70\n",
      "43\n",
      "91\n"
     ]
    }
   ],
   "source": [
    "temperatures = [67, 30, 70, 43, 91]\n",
    "for item in temperatures:\n",
    "    print(item)"
   ]
  },
  {
   "cell_type": "code",
   "execution_count": 31,
   "id": "cfc9fbd5",
   "metadata": {},
   "outputs": [
    {
     "name": "stdout",
     "output_type": "stream",
     "text": [
      "0\n",
      "1\n",
      "2\n",
      "3\n",
      "4\n",
      "5\n",
      "6\n",
      "7\n",
      "8\n",
      "9\n"
     ]
    }
   ],
   "source": [
    "numbers = range(10)\n",
    "for x in numbers:\n",
    "    print(x)"
   ]
  },
  {
   "cell_type": "code",
   "execution_count": 32,
   "id": "2eee6778",
   "metadata": {},
   "outputs": [
    {
     "name": "stdout",
     "output_type": "stream",
     "text": [
      "50\n",
      "55\n",
      "60\n",
      "65\n",
      "70\n",
      "75\n",
      "80\n",
      "85\n",
      "90\n",
      "95\n"
     ]
    }
   ],
   "source": [
    "numbers = range(50,100,5)\n",
    "for x in numbers:\n",
    "    print(x)"
   ]
  },
  {
   "cell_type": "code",
   "execution_count": 34,
   "id": "0db4507d",
   "metadata": {},
   "outputs": [
    {
     "name": "stdout",
     "output_type": "stream",
     "text": [
      "['Apple', 'MicroSoft', 'Samsung', 'Dell', 'HP']\n"
     ]
    }
   ],
   "source": [
    "# Data stuctures\n",
    "techList =[\"Apple\", \"MicroSoft\", \"Samsung\", \"Dell\", \"HP\"]\n",
    "print(techList)"
   ]
  },
  {
   "cell_type": "code",
   "execution_count": 35,
   "id": "32c22f2e",
   "metadata": {},
   "outputs": [
    {
     "name": "stdout",
     "output_type": "stream",
     "text": [
      "['Apple', 'MicroSoft']\n"
     ]
    }
   ],
   "source": [
    "print(techList[0:2])"
   ]
  },
  {
   "cell_type": "code",
   "execution_count": 36,
   "id": "ecc49a3b",
   "metadata": {},
   "outputs": [
    {
     "name": "stdout",
     "output_type": "stream",
     "text": [
      "['Tesla', 'MicroSoft', 'Samsung', 'Dell', 'HP']\n"
     ]
    }
   ],
   "source": [
    "techList[0]= \"Tesla\"\n",
    "print(techList)"
   ]
  },
  {
   "cell_type": "code",
   "execution_count": 37,
   "id": "0e8dc36b",
   "metadata": {},
   "outputs": [
    {
     "name": "stdout",
     "output_type": "stream",
     "text": [
      "['Tesla', 'MicroSoft', 'Samsung', 'Dell']\n"
     ]
    }
   ],
   "source": [
    "techList.remove(\"HP\")\n",
    "print(techList)"
   ]
  },
  {
   "cell_type": "code",
   "execution_count": 38,
   "id": "015c9360",
   "metadata": {},
   "outputs": [
    {
     "name": "stdout",
     "output_type": "stream",
     "text": [
      "['Tesla', 'MicroSoft', 'Samsung', 'Assus', 'Dell']\n"
     ]
    }
   ],
   "source": [
    "techList.insert(3, \"Assus\")\n",
    "print(techList)"
   ]
  },
  {
   "cell_type": "code",
   "execution_count": 39,
   "id": "b60359d2",
   "metadata": {},
   "outputs": [
    {
     "name": "stdout",
     "output_type": "stream",
     "text": [
      "True\n"
     ]
    }
   ],
   "source": [
    "print(\"Assus\" in techList)"
   ]
  },
  {
   "cell_type": "code",
   "execution_count": 40,
   "id": "dc36d058",
   "metadata": {},
   "outputs": [
    {
     "name": "stdout",
     "output_type": "stream",
     "text": [
      "[]\n"
     ]
    }
   ],
   "source": [
    "techList.clear()\n",
    "print(techList)"
   ]
  },
  {
   "cell_type": "code",
   "execution_count": 41,
   "id": "7e87bcdc",
   "metadata": {},
   "outputs": [
    {
     "name": "stdout",
     "output_type": "stream",
     "text": [
      "{'banana': 0.59, 'orange': 1.6, 'apple': 2.5}\n"
     ]
    }
   ],
   "source": [
    "# dictionary\n",
    "fruits = {'banana':0.59, 'orange': 1.6, 'apple': 2.50} \n",
    "print(fruits)"
   ]
  },
  {
   "cell_type": "code",
   "execution_count": 43,
   "id": "124816e5",
   "metadata": {},
   "outputs": [
    {
     "name": "stdout",
     "output_type": "stream",
     "text": [
      "1.6\n"
     ]
    }
   ],
   "source": [
    "print(fruits['orange'])"
   ]
  },
  {
   "cell_type": "code",
   "execution_count": 44,
   "id": "5eb7b555",
   "metadata": {},
   "outputs": [
    {
     "name": "stdout",
     "output_type": "stream",
     "text": [
      "{'banana': 0.59, 'orange': 1.6, 'apple': 2.5, 'melon': 3}\n"
     ]
    }
   ],
   "source": [
    "fruits['melon'] = 3\n",
    "print(fruits)"
   ]
  },
  {
   "cell_type": "code",
   "execution_count": 45,
   "id": "e3068ea5",
   "metadata": {},
   "outputs": [
    {
     "name": "stdout",
     "output_type": "stream",
     "text": [
      "True\n"
     ]
    }
   ],
   "source": [
    "print('apple' in fruits)"
   ]
  },
  {
   "cell_type": "code",
   "execution_count": 46,
   "id": "4d69f646",
   "metadata": {},
   "outputs": [
    {
     "ename": "IndentationError",
     "evalue": "expected an indented block (<ipython-input-46-2a9227e1b4cb>, line 2)",
     "output_type": "error",
     "traceback": [
      "\u001b[1;36m  File \u001b[1;32m\"<ipython-input-46-2a9227e1b4cb>\"\u001b[1;36m, line \u001b[1;32m2\u001b[0m\n\u001b[1;33m    assert(3,4,5)==(3,4,5)\u001b[0m\n\u001b[1;37m    ^\u001b[0m\n\u001b[1;31mIndentationError\u001b[0m\u001b[1;31m:\u001b[0m expected an indented block\n"
     ]
    }
   ],
   "source": [
    "def test_pass():\n",
    "assert(3,4,5)==(3,4,5)"
   ]
  },
  {
   "cell_type": "code",
   "execution_count": null,
   "id": "2b64b445",
   "metadata": {},
   "outputs": [],
   "source": []
  }
 ],
 "metadata": {
  "kernelspec": {
   "display_name": "Python 3",
   "language": "python",
   "name": "python3"
  },
  "language_info": {
   "codemirror_mode": {
    "name": "ipython",
    "version": 3
   },
   "file_extension": ".py",
   "mimetype": "text/x-python",
   "name": "python",
   "nbconvert_exporter": "python",
   "pygments_lexer": "ipython3",
   "version": "3.8.8"
  }
 },
 "nbformat": 4,
 "nbformat_minor": 5
}
